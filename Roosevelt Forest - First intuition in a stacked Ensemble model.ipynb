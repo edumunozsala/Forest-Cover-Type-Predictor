{
 "cells": [
  {
   "cell_type": "markdown",
   "metadata": {
    "collapsed": true
   },
   "source": [
    "# Roosevelt National Forest of northern Colorado Competition\n",
    "\n",
    "In this experiment we will apply some classifiers based on trees and then stack them all together to find out a good classifier\n",
    "\n",
    "Ensemble Methods: RF, AdaBoost"
   ]
  },
  {
   "cell_type": "code",
   "execution_count": 2,
   "metadata": {},
   "outputs": [],
   "source": [
    "import pandas as pd\n",
    "import matplotlib.pyplot as plt\n",
    "import numpy as np\n",
    "import os\n",
    "import math\n",
    "\n",
    "%matplotlib inline"
   ]
  },
  {
   "cell_type": "code",
   "execution_count": 3,
   "metadata": {},
   "outputs": [],
   "source": [
    "# Global parameters\n",
    "#root folder\n",
    "root_folder='..\\..'\n",
    "#data_folder='.'\n",
    "data_folder_name='Datasets/RooseveltForest'\n",
    "\n",
    "# Variable for data directory\n",
    "DATA_PATH = os.path.abspath(os.path.join(root_folder, data_folder_name))\n",
    "\n",
    "# Both train and test set are in the root data directory\n",
    "train_path = DATA_PATH\n",
    "test_path = DATA_PATH\n"
   ]
  },
  {
   "cell_type": "markdown",
   "metadata": {},
   "source": [
    "## Read training and test data"
   ]
  },
  {
   "cell_type": "code",
   "execution_count": 4,
   "metadata": {},
   "outputs": [],
   "source": [
    "# Reading the csv file with the whole dataset\n",
    "data = pd.read_csv(train_path+'\\\\train.csv', sep=',', header=0, index_col=0)\n",
    "# Train data, erasing label column\n",
    "train_data = data.drop('Cover_Type', axis=1)\n",
    "train_label = data[['Cover_Type']]\n",
    "# Read the test data\n",
    "test_data = pd.read_csv(test_path+'\\\\test.csv', sep=',', header=0, index_col=0)"
   ]
  },
  {
   "cell_type": "markdown",
   "metadata": {},
   "source": [
    "## Data preprocessing"
   ]
  },
  {
   "cell_type": "markdown",
   "metadata": {},
   "source": [
    "### Global variables"
   ]
  },
  {
   "cell_type": "code",
   "execution_count": 5,
   "metadata": {},
   "outputs": [],
   "source": [
    "# Define some groups of columns based on  type\n",
    "var_numeric = ['Elevation','Aspect','Slope','Horizontal_Distance_To_Hydrology','Vertical_Distance_To_Hydrology',\n",
    "                'Horizontal_Distance_To_Roadways','Hillshade_9am','Hillshade_Noon','Hillshade_3pm',\n",
    "                'Horizontal_Distance_To_Fire_Points']\n",
    "# There are no categoric variables to transfomr\n",
    "var_categoric = []\n",
    "\n",
    "# Numerical columns with missing values\n",
    "# In our first approach, no missing values to consider\n",
    "columns_nan=[]\n",
    "\n",
    "#Defining some relevant group of columns\n",
    "# Columns to be ingored for classification\n",
    "# Soil Type 7,8, 15 y 25\n",
    "columns_to_ignore = ['Soil_Type7','Soil_Type8','Soil_Type15','Soil_Type25']\n",
    "\n",
    "num_columns_nan=[i for i in columns_nan if i not in columns_to_ignore]\n",
    "enconde_cols_name=[i for i in var_categoric if i not in columns_to_ignore]"
   ]
  },
  {
   "cell_type": "markdown",
   "metadata": {},
   "source": [
    "### Feature engineering and selection"
   ]
  },
  {
   "cell_type": "code",
   "execution_count": 6,
   "metadata": {},
   "outputs": [],
   "source": [
    "# Horizontal to roadways and to Fire poins are very simila recpect to arget variable so lets drop horizontal to roadways\n",
    "# Horizontal and vertical to hidrology are correlated, lets drop vertical\n",
    "# Drop soil types where the number of rows are very low: 9, 21, 27, 28, 36\n",
    "# Outliers: \n",
    "columns_unselect=['Soil_Type9','Soil_Type21','Soil_Type27','Soil_Type28','Soil_Type36']\n"
   ]
  },
  {
   "cell_type": "code",
   "execution_count": 7,
   "metadata": {},
   "outputs": [],
   "source": [
    "# Manipulate and transform columns in dataframe to be used in the next stages\n",
    "\n",
    "# Delete non relevant columns\n",
    "train_data.drop(columns_to_ignore+columns_unselect, axis=1,inplace=True)\n",
    "test_data.drop(columns_to_ignore+columns_unselect, axis=1,inplace=True)\n",
    "\n",
    "#Filling na values in columns\n",
    "#Not neccesary at this moment\n",
    "\n",
    "#Dealing with ourliers or data errors\n",
    "#Not neccesary at this moment\n",
    "\n",
    "# Define columns to fill nan values and categorial columns to one-hot-encode \n",
    "columns_nan=[train_df.columns.tolist().index(i) for i in num_columns_nan]\n",
    "columns_enconde=[train_df.columns.tolist().index(i) for i in enconde_cols_name]\n"
   ]
  },
  {
   "cell_type": "code",
   "execution_count": 8,
   "metadata": {},
   "outputs": [
    {
     "name": "stdout",
     "output_type": "stream",
     "text": [
      "Train data:  (15120, 45)\n",
      "Train labels:  (15120, 1)\n",
      "Test data:  (565892, 45)\n"
     ]
    }
   ],
   "source": [
    "print('Train data: ',train_data.shape)\n",
    "print('Train labels: ',train_label.shape)\n",
    "print('Test data: ',test_data.shape)"
   ]
  },
  {
   "cell_type": "markdown",
   "metadata": {},
   "source": [
    "## Preparing the data for the algorithm"
   ]
  },
  {
   "cell_type": "code",
   "execution_count": 10,
   "metadata": {},
   "outputs": [
    {
     "name": "stdout",
     "output_type": "stream",
     "text": [
      "X:  (15120, 45)\n",
      "y:  (15120,)\n",
      "test:  (565892, 45)\n"
     ]
    }
   ],
   "source": [
    "# Tranform to numpy array\n",
    "X = train_data.values.astype('float64')\n",
    "y = train_label.values.ravel()\n",
    "test_ds= test_data.values.astype('float64')\n",
    "\n",
    "#Convertimos todos los valores a float incluida la columna boolean\n",
    "# To avoid error in the imputer action if it was neccesary\n",
    "#X= np.vstack(X[:, :]).astype(np.float)\n",
    "\n",
    "print('X: ', X.shape)\n",
    "print('y: ', y.shape)\n",
    "print('test: ', test_ds.shape)\n",
    "#X Shape 500,000 x 8"
   ]
  },
  {
   "cell_type": "code",
   "execution_count": 16,
   "metadata": {},
   "outputs": [
    {
     "data": {
      "text/plain": [
       "array([[2.596e+03, 5.100e+01, 3.000e+00, ..., 0.000e+00, 0.000e+00,\n",
       "        0.000e+00],\n",
       "       [2.590e+03, 5.600e+01, 2.000e+00, ..., 0.000e+00, 0.000e+00,\n",
       "        0.000e+00],\n",
       "       [2.804e+03, 1.390e+02, 9.000e+00, ..., 0.000e+00, 0.000e+00,\n",
       "        0.000e+00],\n",
       "       ...,\n",
       "       [2.492e+03, 1.340e+02, 2.500e+01, ..., 0.000e+00, 0.000e+00,\n",
       "        0.000e+00],\n",
       "       [2.487e+03, 1.670e+02, 2.800e+01, ..., 0.000e+00, 0.000e+00,\n",
       "        0.000e+00],\n",
       "       [2.475e+03, 1.970e+02, 3.400e+01, ..., 0.000e+00, 0.000e+00,\n",
       "        0.000e+00]])"
      ]
     },
     "execution_count": 16,
     "metadata": {},
     "output_type": "execute_result"
    }
   ],
   "source": [
    "X"
   ]
  },
  {
   "cell_type": "markdown",
   "metadata": {},
   "source": [
    "## Building and training an algorithm"
   ]
  },
  {
   "cell_type": "markdown",
   "metadata": {},
   "source": [
    "### Creating the train and test datasets"
   ]
  },
  {
   "cell_type": "code",
   "execution_count": 51,
   "metadata": {},
   "outputs": [
    {
     "name": "stderr",
     "output_type": "stream",
     "text": [
      "C:\\Users\\edumu\\Anaconda3\\lib\\site-packages\\sklearn\\utils\\validation.py:595: DataConversionWarning: Data with input dtype int64 was converted to float64 by StandardScaler.\n",
      "  warnings.warn(msg, DataConversionWarning)\n"
     ]
    }
   ],
   "source": [
    "# Splitting the dataset into the Training set and Test set\n",
    "from sklearn.model_selection import train_test_split\n",
    "from sklearn.metrics import accuracy_score\n",
    "from sklearn.model_selection import GridSearchCV\n",
    "\n",
    "X_train, X_test, y_train, y_test = train_test_split(X, y, test_size = 0.4, random_state = 0)\n",
    "\n",
    "# Feature Scaling\n",
    "from sklearn.preprocessing import StandardScaler\n",
    "sc = StandardScaler()\n",
    "X_train = sc.fit_transform(X_train)\n",
    "X_test = sc.transform(X_test)\n",
    "test_ds= sc.transform(test_ds)"
   ]
  },
  {
   "cell_type": "code",
   "execution_count": 52,
   "metadata": {},
   "outputs": [
    {
     "name": "stdout",
     "output_type": "stream",
     "text": [
      "X Train Shape: (9072, 45)\n",
      "X Test Shape: (6048, 45)\n",
      "Test Shape: (565892, 45)\n"
     ]
    }
   ],
   "source": [
    "print('X Train Shape:', X_train.shape)\n",
    "print('X Test Shape:', X_test.shape)\n",
    "print('Test Shape:', test_ds.shape)"
   ]
  },
  {
   "cell_type": "code",
   "execution_count": 53,
   "metadata": {},
   "outputs": [
    {
     "data": {
      "text/plain": [
       "<bound method DataFrame.info of Empty DataFrame\n",
       "Columns: [RF]\n",
       "Index: []>"
      ]
     },
     "execution_count": 53,
     "metadata": {},
     "output_type": "execute_result"
    }
   ],
   "source": [
    "X_train_l2 = pd.DataFrame(columns=['RF'])\n",
    "X_train_l2.info"
   ]
  },
  {
   "cell_type": "markdown",
   "metadata": {},
   "source": [
    "### Train the algorithm: Random Forest"
   ]
  },
  {
   "cell_type": "code",
   "execution_count": 54,
   "metadata": {},
   "outputs": [
    {
     "name": "stdout",
     "output_type": "stream",
     "text": [
      "Fitting 5 folds for each of 3 candidates, totalling 15 fits\n"
     ]
    },
    {
     "name": "stderr",
     "output_type": "stream",
     "text": [
      "[Parallel(n_jobs=-1)]: Using backend LokyBackend with 8 concurrent workers.\n",
      "[Parallel(n_jobs=-1)]: Done  15 out of  15 | elapsed:   11.2s finished\n"
     ]
    },
    {
     "data": {
      "text/plain": [
       "GridSearchCV(cv=5, error_score='raise-deprecating',\n",
       "       estimator=RandomForestClassifier(bootstrap=True, class_weight=None, criterion='entropy',\n",
       "            max_depth=None, max_features='auto', max_leaf_nodes=None,\n",
       "            min_impurity_decrease=0.0, min_impurity_split=None,\n",
       "            min_samples_leaf=1, min_samples_split=2,\n",
       "            min_weight_fraction_leaf=0.0, n_estimators='warn', n_jobs=None,\n",
       "            oob_score=False, random_state=0, verbose=0, warm_start=False),\n",
       "       fit_params=None, iid='warn', n_jobs=-1,\n",
       "       param_grid=[{'n_estimators': [50, 100, 125]}],\n",
       "       pre_dispatch='2*n_jobs', refit=True, return_train_score=True,\n",
       "       scoring='accuracy', verbose=1)"
      ]
     },
     "execution_count": 54,
     "metadata": {},
     "output_type": "execute_result"
    }
   ],
   "source": [
    "# Fitting Decision Tree to the Training set\n",
    "from sklearn.ensemble import RandomForestClassifier\n",
    "from sklearn.model_selection import GridSearchCV\n",
    "\n",
    "parameter_candidates = [{'n_estimators': [50, 100, 125]}]\n",
    "\n",
    "classifier = GridSearchCV(estimator=RandomForestClassifier(criterion = 'entropy', max_depth=None,min_samples_split=2,\n",
    "                                                           min_samples_leaf=1, max_leaf_nodes=None,random_state = 0),\n",
    "                          param_grid=parameter_candidates, scoring='accuracy', n_jobs=-1, cv=5, verbose=1, refit=True, \n",
    "                          return_train_score=True)\n",
    "\n",
    "# Train the classifier on data1's feature and target data\n",
    "classifier.fit(X_train, y_train)"
   ]
  },
  {
   "cell_type": "code",
   "execution_count": 55,
   "metadata": {},
   "outputs": [
    {
     "name": "stdout",
     "output_type": "stream",
     "text": [
      "{'n_estimators': 125}\n",
      "RandomForestClassifier(bootstrap=True, class_weight=None, criterion='entropy',\n",
      "            max_depth=None, max_features='auto', max_leaf_nodes=None,\n",
      "            min_impurity_decrease=0.0, min_impurity_split=None,\n",
      "            min_samples_leaf=1, min_samples_split=2,\n",
      "            min_weight_fraction_leaf=0.0, n_estimators=125, n_jobs=None,\n",
      "            oob_score=False, random_state=0, verbose=0, warm_start=False)\n"
     ]
    }
   ],
   "source": [
    "#Show the results of the hyperparameter tunning\n",
    "print(classifier.best_params_)\n",
    "print(classifier.best_estimator_)\n"
   ]
  },
  {
   "cell_type": "code",
   "execution_count": 35,
   "metadata": {},
   "outputs": [],
   "source": [
    "from sklearn.model_selection import StratifiedKFold\n",
    "\n",
    "y_preds, y_actual=[],[]\n",
    "for train_index, test_index in StratifiedKFold(n_splits=10, random_state=1234, shuffle=True).split(X, y):\n",
    "    y_preds.append(classifier.best_estimator_.predict_proba(X[test_index]))\n",
    "    y_actual.append(y[test_index])\n",
    "\n"
   ]
  },
  {
   "cell_type": "code",
   "execution_count": 57,
   "metadata": {},
   "outputs": [
    {
     "name": "stdout",
     "output_type": "stream",
     "text": [
      "(6048,)\n",
      "(565892,)\n",
      "0.8466\n"
     ]
    },
    {
     "data": {
      "text/html": [
       "<div>\n",
       "<style>\n",
       "    .dataframe thead tr:only-child th {\n",
       "        text-align: right;\n",
       "    }\n",
       "\n",
       "    .dataframe thead th {\n",
       "        text-align: left;\n",
       "    }\n",
       "\n",
       "    .dataframe tbody tr th {\n",
       "        vertical-align: top;\n",
       "    }\n",
       "</style>\n",
       "<table border=\"1\" class=\"dataframe\">\n",
       "  <thead>\n",
       "    <tr style=\"text-align: right;\">\n",
       "      <th></th>\n",
       "      <th>RF</th>\n",
       "    </tr>\n",
       "  </thead>\n",
       "  <tbody>\n",
       "    <tr>\n",
       "      <th>0</th>\n",
       "      <td>4</td>\n",
       "    </tr>\n",
       "    <tr>\n",
       "      <th>1</th>\n",
       "      <td>4</td>\n",
       "    </tr>\n",
       "    <tr>\n",
       "      <th>2</th>\n",
       "      <td>4</td>\n",
       "    </tr>\n",
       "    <tr>\n",
       "      <th>3</th>\n",
       "      <td>4</td>\n",
       "    </tr>\n",
       "    <tr>\n",
       "      <th>4</th>\n",
       "      <td>4</td>\n",
       "    </tr>\n",
       "    <tr>\n",
       "      <th>5</th>\n",
       "      <td>1</td>\n",
       "    </tr>\n",
       "    <tr>\n",
       "      <th>6</th>\n",
       "      <td>4</td>\n",
       "    </tr>\n",
       "    <tr>\n",
       "      <th>7</th>\n",
       "      <td>7</td>\n",
       "    </tr>\n",
       "    <tr>\n",
       "      <th>8</th>\n",
       "      <td>1</td>\n",
       "    </tr>\n",
       "    <tr>\n",
       "      <th>9</th>\n",
       "      <td>7</td>\n",
       "    </tr>\n",
       "    <tr>\n",
       "      <th>10</th>\n",
       "      <td>7</td>\n",
       "    </tr>\n",
       "    <tr>\n",
       "      <th>11</th>\n",
       "      <td>3</td>\n",
       "    </tr>\n",
       "    <tr>\n",
       "      <th>12</th>\n",
       "      <td>1</td>\n",
       "    </tr>\n",
       "    <tr>\n",
       "      <th>13</th>\n",
       "      <td>4</td>\n",
       "    </tr>\n",
       "    <tr>\n",
       "      <th>14</th>\n",
       "      <td>2</td>\n",
       "    </tr>\n",
       "    <tr>\n",
       "      <th>15</th>\n",
       "      <td>3</td>\n",
       "    </tr>\n",
       "    <tr>\n",
       "      <th>16</th>\n",
       "      <td>7</td>\n",
       "    </tr>\n",
       "    <tr>\n",
       "      <th>17</th>\n",
       "      <td>3</td>\n",
       "    </tr>\n",
       "    <tr>\n",
       "      <th>18</th>\n",
       "      <td>4</td>\n",
       "    </tr>\n",
       "    <tr>\n",
       "      <th>19</th>\n",
       "      <td>3</td>\n",
       "    </tr>\n",
       "    <tr>\n",
       "      <th>20</th>\n",
       "      <td>4</td>\n",
       "    </tr>\n",
       "    <tr>\n",
       "      <th>21</th>\n",
       "      <td>7</td>\n",
       "    </tr>\n",
       "    <tr>\n",
       "      <th>22</th>\n",
       "      <td>3</td>\n",
       "    </tr>\n",
       "    <tr>\n",
       "      <th>23</th>\n",
       "      <td>5</td>\n",
       "    </tr>\n",
       "    <tr>\n",
       "      <th>24</th>\n",
       "      <td>7</td>\n",
       "    </tr>\n",
       "    <tr>\n",
       "      <th>25</th>\n",
       "      <td>5</td>\n",
       "    </tr>\n",
       "    <tr>\n",
       "      <th>26</th>\n",
       "      <td>2</td>\n",
       "    </tr>\n",
       "    <tr>\n",
       "      <th>27</th>\n",
       "      <td>5</td>\n",
       "    </tr>\n",
       "    <tr>\n",
       "      <th>28</th>\n",
       "      <td>3</td>\n",
       "    </tr>\n",
       "    <tr>\n",
       "      <th>29</th>\n",
       "      <td>1</td>\n",
       "    </tr>\n",
       "    <tr>\n",
       "      <th>...</th>\n",
       "      <td>...</td>\n",
       "    </tr>\n",
       "    <tr>\n",
       "      <th>6018</th>\n",
       "      <td>1</td>\n",
       "    </tr>\n",
       "    <tr>\n",
       "      <th>6019</th>\n",
       "      <td>7</td>\n",
       "    </tr>\n",
       "    <tr>\n",
       "      <th>6020</th>\n",
       "      <td>4</td>\n",
       "    </tr>\n",
       "    <tr>\n",
       "      <th>6021</th>\n",
       "      <td>4</td>\n",
       "    </tr>\n",
       "    <tr>\n",
       "      <th>6022</th>\n",
       "      <td>6</td>\n",
       "    </tr>\n",
       "    <tr>\n",
       "      <th>6023</th>\n",
       "      <td>3</td>\n",
       "    </tr>\n",
       "    <tr>\n",
       "      <th>6024</th>\n",
       "      <td>7</td>\n",
       "    </tr>\n",
       "    <tr>\n",
       "      <th>6025</th>\n",
       "      <td>2</td>\n",
       "    </tr>\n",
       "    <tr>\n",
       "      <th>6026</th>\n",
       "      <td>7</td>\n",
       "    </tr>\n",
       "    <tr>\n",
       "      <th>6027</th>\n",
       "      <td>4</td>\n",
       "    </tr>\n",
       "    <tr>\n",
       "      <th>6028</th>\n",
       "      <td>5</td>\n",
       "    </tr>\n",
       "    <tr>\n",
       "      <th>6029</th>\n",
       "      <td>5</td>\n",
       "    </tr>\n",
       "    <tr>\n",
       "      <th>6030</th>\n",
       "      <td>6</td>\n",
       "    </tr>\n",
       "    <tr>\n",
       "      <th>6031</th>\n",
       "      <td>7</td>\n",
       "    </tr>\n",
       "    <tr>\n",
       "      <th>6032</th>\n",
       "      <td>2</td>\n",
       "    </tr>\n",
       "    <tr>\n",
       "      <th>6033</th>\n",
       "      <td>6</td>\n",
       "    </tr>\n",
       "    <tr>\n",
       "      <th>6034</th>\n",
       "      <td>2</td>\n",
       "    </tr>\n",
       "    <tr>\n",
       "      <th>6035</th>\n",
       "      <td>5</td>\n",
       "    </tr>\n",
       "    <tr>\n",
       "      <th>6036</th>\n",
       "      <td>2</td>\n",
       "    </tr>\n",
       "    <tr>\n",
       "      <th>6037</th>\n",
       "      <td>3</td>\n",
       "    </tr>\n",
       "    <tr>\n",
       "      <th>6038</th>\n",
       "      <td>6</td>\n",
       "    </tr>\n",
       "    <tr>\n",
       "      <th>6039</th>\n",
       "      <td>1</td>\n",
       "    </tr>\n",
       "    <tr>\n",
       "      <th>6040</th>\n",
       "      <td>6</td>\n",
       "    </tr>\n",
       "    <tr>\n",
       "      <th>6041</th>\n",
       "      <td>1</td>\n",
       "    </tr>\n",
       "    <tr>\n",
       "      <th>6042</th>\n",
       "      <td>1</td>\n",
       "    </tr>\n",
       "    <tr>\n",
       "      <th>6043</th>\n",
       "      <td>2</td>\n",
       "    </tr>\n",
       "    <tr>\n",
       "      <th>6044</th>\n",
       "      <td>2</td>\n",
       "    </tr>\n",
       "    <tr>\n",
       "      <th>6045</th>\n",
       "      <td>4</td>\n",
       "    </tr>\n",
       "    <tr>\n",
       "      <th>6046</th>\n",
       "      <td>7</td>\n",
       "    </tr>\n",
       "    <tr>\n",
       "      <th>6047</th>\n",
       "      <td>1</td>\n",
       "    </tr>\n",
       "  </tbody>\n",
       "</table>\n",
       "<p>6048 rows × 1 columns</p>\n",
       "</div>"
      ],
      "text/plain": [
       "      RF\n",
       "0      4\n",
       "1      4\n",
       "2      4\n",
       "3      4\n",
       "4      4\n",
       "5      1\n",
       "6      4\n",
       "7      7\n",
       "8      1\n",
       "9      7\n",
       "10     7\n",
       "11     3\n",
       "12     1\n",
       "13     4\n",
       "14     2\n",
       "15     3\n",
       "16     7\n",
       "17     3\n",
       "18     4\n",
       "19     3\n",
       "20     4\n",
       "21     7\n",
       "22     3\n",
       "23     5\n",
       "24     7\n",
       "25     5\n",
       "26     2\n",
       "27     5\n",
       "28     3\n",
       "29     1\n",
       "...   ..\n",
       "6018   1\n",
       "6019   7\n",
       "6020   4\n",
       "6021   4\n",
       "6022   6\n",
       "6023   3\n",
       "6024   7\n",
       "6025   2\n",
       "6026   7\n",
       "6027   4\n",
       "6028   5\n",
       "6029   5\n",
       "6030   6\n",
       "6031   7\n",
       "6032   2\n",
       "6033   6\n",
       "6034   2\n",
       "6035   5\n",
       "6036   2\n",
       "6037   3\n",
       "6038   6\n",
       "6039   1\n",
       "6040   6\n",
       "6041   1\n",
       "6042   1\n",
       "6043   2\n",
       "6044   2\n",
       "6045   4\n",
       "6046   7\n",
       "6047   1\n",
       "\n",
       "[6048 rows x 1 columns]"
      ]
     },
     "execution_count": 57,
     "metadata": {},
     "output_type": "execute_result"
    }
   ],
   "source": [
    "from sklearn.metrics import accuracy_score\n",
    "\n",
    "predictions=classifier.best_estimator_.predict(X_test)\n",
    "print(predictions.shape)\n",
    "predictions_test = classifier.best_estimator_.predict(test_ds)\n",
    "print(predictions_test.shape)\n",
    "print(round(accuracy_score(y_test, predictions),4))\n",
    "\n",
    "X_train_l2['RF'] = predictions"
   ]
  },
  {
   "cell_type": "markdown",
   "metadata": {},
   "source": [
    "### Train the algorithm: Decision Tree"
   ]
  },
  {
   "cell_type": "code",
   "execution_count": 59,
   "metadata": {},
   "outputs": [
    {
     "name": "stdout",
     "output_type": "stream",
     "text": [
      "(6048,)\n",
      "(565892,)\n",
      "0.7235\n"
     ]
    }
   ],
   "source": [
    "# Fitting Decision Tree to the Training set\n",
    "from sklearn.tree import DecisionTreeClassifier\n",
    "\n",
    "classifier = DecisionTreeClassifier(criterion = 'entropy',max_depth=None,min_samples_split=2, min_samples_leaf=1,\n",
    "                                    max_leaf_nodes=None,max_features='auto', random_state = 0)\n",
    "\n",
    "classifier.fit(X_train, y_train)\n",
    "#Show the results of the hyperparameter tunning\n",
    "predictions=classifier.predict(X_test)\n",
    "print(predictions.shape)\n",
    "predictions_test = classifier.predict(test_ds)\n",
    "print(predictions_test.shape)\n",
    "print(round(accuracy_score(y_test, predictions),4))\n",
    "\n",
    "X_train_l2['DT'] = predictions"
   ]
  },
  {
   "cell_type": "markdown",
   "metadata": {},
   "source": [
    "### Train the algorithm: AdaBoosted Decision Tree"
   ]
  },
  {
   "cell_type": "code",
   "execution_count": 60,
   "metadata": {},
   "outputs": [
    {
     "name": "stdout",
     "output_type": "stream",
     "text": [
      "Fitting 5 folds for each of 9 candidates, totalling 45 fits\n"
     ]
    },
    {
     "name": "stderr",
     "output_type": "stream",
     "text": [
      "[Parallel(n_jobs=-1)]: Using backend LokyBackend with 8 concurrent workers.\n",
      "[Parallel(n_jobs=-1)]: Done  45 out of  45 | elapsed:  4.3min finished\n"
     ]
    },
    {
     "data": {
      "text/plain": [
       "GridSearchCV(cv=5, error_score='raise-deprecating',\n",
       "       estimator=AdaBoostClassifier(algorithm='SAMME.R',\n",
       "          base_estimator=DecisionTreeClassifier(class_weight=None, criterion='entropy', max_depth=None,\n",
       "            max_features=None, max_leaf_nodes=None,\n",
       "            min_impurity_decrease=0.0, min_impurity_split=None,\n",
       "            min_samples_leaf=2, min_samples_split=2,\n",
       "            min_weight_fraction_leaf=0.0, presort=False, random_state=0,\n",
       "            splitter='best'),\n",
       "          learning_rate=1.0, n_estimators=50, random_state=0),\n",
       "       fit_params=None, iid='warn', n_jobs=-1,\n",
       "       param_grid=[{'n_estimators': [50, 100, 125], 'learning_rate': [0.25, 0.5, 1.0]}],\n",
       "       pre_dispatch='2*n_jobs', refit=True, return_train_score=True,\n",
       "       scoring='accuracy', verbose=1)"
      ]
     },
     "execution_count": 60,
     "metadata": {},
     "output_type": "execute_result"
    }
   ],
   "source": [
    "from sklearn.ensemble import AdaBoostClassifier\n",
    "from sklearn.tree import DecisionTreeClassifier\n",
    "\n",
    "# Define the base estimator for the Adaboost algorithm\n",
    "base_classifier = DecisionTreeClassifier(criterion ='entropy',max_depth=None, min_samples_split=2,min_samples_leaf=2,\n",
    "                                                       max_leaf_nodes=None,random_state = 0)\n",
    "\n",
    "parameter_candidates = [{'n_estimators': [50, 100, 125], 'learning_rate': [0.25, 0.5, 1.]}]\n",
    "\n",
    "classifier = GridSearchCV(estimator=AdaBoostClassifier(base_estimator=base_classifier,random_state=0),\n",
    "                          param_grid=parameter_candidates, scoring='accuracy', n_jobs=-1, cv=5, verbose=1, refit=True, \n",
    "                          return_train_score=True)\n",
    "\n",
    "classifier.fit(X_train, y_train)"
   ]
  },
  {
   "cell_type": "code",
   "execution_count": 61,
   "metadata": {},
   "outputs": [
    {
     "name": "stdout",
     "output_type": "stream",
     "text": [
      "{'learning_rate': 0.25, 'n_estimators': 100}\n",
      "AdaBoostClassifier(algorithm='SAMME.R',\n",
      "          base_estimator=DecisionTreeClassifier(class_weight=None, criterion='entropy', max_depth=None,\n",
      "            max_features=None, max_leaf_nodes=None,\n",
      "            min_impurity_decrease=0.0, min_impurity_split=None,\n",
      "            min_samples_leaf=2, min_samples_split=2,\n",
      "            min_weight_fraction_leaf=0.0, presort=False, random_state=0,\n",
      "            splitter='best'),\n",
      "          learning_rate=0.25, n_estimators=100, random_state=0)\n",
      "(6048,)\n",
      "(565892,)\n",
      "0.8522\n"
     ]
    }
   ],
   "source": [
    "#Show the results of the hyperparameter tunning\n",
    "print(classifier.best_params_)\n",
    "print(classifier.best_estimator_)\n",
    "\n",
    "predictions=classifier.best_estimator_.predict(X_test)\n",
    "print(predictions.shape)\n",
    "predictions_test = classifier.best_estimator_.predict(test_ds)\n",
    "print(predictions_test.shape)\n",
    "print(round(accuracy_score(y_test, predictions),4))\n",
    "\n",
    "X_train_l2['AB'] = predictions"
   ]
  },
  {
   "cell_type": "markdown",
   "metadata": {},
   "source": [
    "### Train the algorithm: Gradient Boosting Classifier"
   ]
  },
  {
   "cell_type": "code",
   "execution_count": 62,
   "metadata": {},
   "outputs": [
    {
     "name": "stdout",
     "output_type": "stream",
     "text": [
      "Fitting 5 folds for each of 27 candidates, totalling 135 fits\n"
     ]
    },
    {
     "name": "stderr",
     "output_type": "stream",
     "text": [
      "[Parallel(n_jobs=-1)]: Using backend LokyBackend with 8 concurrent workers.\n",
      "[Parallel(n_jobs=-1)]: Done  34 tasks      | elapsed:  2.2min\n",
      "[Parallel(n_jobs=-1)]: Done 135 out of 135 | elapsed: 20.4min finished\n"
     ]
    },
    {
     "name": "stdout",
     "output_type": "stream",
     "text": [
      "      Iter       Train Loss   Remaining Time \n",
      "         1       10620.1119            1.40m\n",
      "         2        7733.7413            1.44m\n",
      "         3        5869.8905            1.46m\n",
      "         4        4594.7696            1.47m\n",
      "         5        3625.5944            1.47m\n",
      "         6        2919.8230            1.46m\n",
      "         7        2391.3320            1.45m\n",
      "         8        1977.9951            1.45m\n",
      "         9        1640.1807            1.44m\n",
      "        10        1374.9496            1.42m\n",
      "        20         359.2368            1.29m\n",
      "        30         141.6159            1.09m\n",
      "        40          57.6664           54.84s\n",
      "        50          24.8450           45.95s\n",
      "        60          11.6845           37.46s\n",
      "        70           6.2602           29.63s\n",
      "        80           4.1854           22.43s\n",
      "        90           3.4764           15.99s\n",
      "       100           3.0524           10.53s\n"
     ]
    },
    {
     "data": {
      "text/plain": [
       "GridSearchCV(cv=5, error_score='raise-deprecating',\n",
       "       estimator=GradientBoostingClassifier(criterion='friedman_mse', init=None,\n",
       "              learning_rate=0.1, loss='deviance', max_depth=3,\n",
       "              max_features=None, max_leaf_nodes=None,\n",
       "              min_impurity_decrease=0.0, min_impurity_split=None,\n",
       "              min_samples_leaf=1, min_sampl...      subsample=1.0, tol=0.0001, validation_fraction=0.1,\n",
       "              verbose=1, warm_start=False),\n",
       "       fit_params=None, iid='warn', n_jobs=-1,\n",
       "       param_grid=[{'n_estimators': [50, 100, 125], 'learning_rate': [0.5, 0.2, 0.1], 'max_depth': [5, 10, None]}],\n",
       "       pre_dispatch='2*n_jobs', refit=True, return_train_score=True,\n",
       "       scoring=None, verbose=1)"
      ]
     },
     "execution_count": 62,
     "metadata": {},
     "output_type": "execute_result"
    }
   ],
   "source": [
    "# Fitting Decision Tree to the Training set\n",
    "from sklearn.ensemble import GradientBoostingClassifier\n",
    "from sklearn.model_selection import GridSearchCV\n",
    "#from sklearn.tree import DecisionTreeClassifier\n",
    "#classifier = GradientBoostingClassifier(n_estimators=100,learning_rate=0.5,max_depth=15,\n",
    "#              min_samples_leaf=1, min_samples_split=2,random_state=0,verbose=1)\n",
    "#Hyperparameter tuning with Grid Search\n",
    "parameter_candidates = [{'n_estimators': [50, 100, 125], 'learning_rate': [0.5,0.2,0.1], 'max_depth':[5,10,None]}]\n",
    "\n",
    "classifier = GridSearchCV(estimator=GradientBoostingClassifier(min_samples_leaf=1, min_samples_split=2,random_state=0,verbose=1),\n",
    "                          param_grid=parameter_candidates, n_jobs=-1, cv=5, verbose=1, return_train_score=True)\n",
    "\n",
    "# Train the classifier on data1's feature and target data\n",
    "classifier.fit(X_train, y_train)\n"
   ]
  },
  {
   "cell_type": "code",
   "execution_count": 63,
   "metadata": {},
   "outputs": [
    {
     "name": "stdout",
     "output_type": "stream",
     "text": [
      "{'learning_rate': 0.2, 'max_depth': 10, 'n_estimators': 125}\n",
      "GradientBoostingClassifier(criterion='friedman_mse', init=None,\n",
      "              learning_rate=0.2, loss='deviance', max_depth=10,\n",
      "              max_features=None, max_leaf_nodes=None,\n",
      "              min_impurity_decrease=0.0, min_impurity_split=None,\n",
      "              min_samples_leaf=1, min_samples_split=2,\n",
      "              min_weight_fraction_leaf=0.0, n_estimators=125,\n",
      "              n_iter_no_change=None, presort='auto', random_state=0,\n",
      "              subsample=1.0, tol=0.0001, validation_fraction=0.1,\n",
      "              verbose=1, warm_start=False)\n",
      "(6048,)\n",
      "(565892,)\n",
      "0.8476\n"
     ]
    }
   ],
   "source": [
    "#Show the results of the hyperparameter tunning\n",
    "print(classifier.best_params_)\n",
    "print(classifier.best_estimator_)\n",
    "\n",
    "predictions=classifier.best_estimator_.predict(X_test)\n",
    "print(predictions.shape)\n",
    "predictions_test = classifier.best_estimator_.predict(test_ds)\n",
    "print(predictions_test.shape)\n",
    "print(round(accuracy_score(y_test, predictions),4))\n",
    "\n",
    "X_train_l2['GB'] = predictions"
   ]
  },
  {
   "cell_type": "code",
   "execution_count": 41,
   "metadata": {},
   "outputs": [
    {
     "name": "stdout",
     "output_type": "stream",
     "text": [
      "Mean:  0.8479719984497024\n",
      "Std:  0.00590787992349919\n"
     ]
    }
   ],
   "source": [
    "# Scoring the model by Cross Validation\n",
    "from sklearn.model_selection import cross_val_score\n",
    "accuracies = cross_val_score(estimator = classifier, X = X_train, y = y_train, cv = 10)\n",
    "mean_score = accuracies.mean()\n",
    "std_score = accuracies.std()\n",
    "print('Mean: ',mean_score)\n",
    "print('Std: ',std_score)"
   ]
  },
  {
   "cell_type": "code",
   "execution_count": 64,
   "metadata": {},
   "outputs": [
    {
     "name": "stdout",
     "output_type": "stream",
     "text": [
      "Fitting 5 folds for each of 3 candidates, totalling 15 fits\n"
     ]
    },
    {
     "name": "stderr",
     "output_type": "stream",
     "text": [
      "[Parallel(n_jobs=-1)]: Using backend LokyBackend with 8 concurrent workers.\n",
      "[Parallel(n_jobs=-1)]: Done  15 out of  15 | elapsed:    3.8s finished\n"
     ]
    },
    {
     "data": {
      "text/plain": [
       "GridSearchCV(cv=5, error_score='raise-deprecating',\n",
       "       estimator=ExtraTreesClassifier(bootstrap=False, class_weight=None, criterion='entropy',\n",
       "           max_depth=None, max_features='auto', max_leaf_nodes=None,\n",
       "           min_impurity_decrease=0.0, min_impurity_split=None,\n",
       "           min_samples_leaf=1, min_samples_split=2,\n",
       "           min_weight_fraction_leaf=0.0, n_estimators='warn', n_jobs=None,\n",
       "           oob_score=False, random_state=0, verbose=0, warm_start=False),\n",
       "       fit_params=None, iid='warn', n_jobs=-1,\n",
       "       param_grid=[{'n_estimators': [50, 100, 125]}],\n",
       "       pre_dispatch='2*n_jobs', refit=True, return_train_score=True,\n",
       "       scoring='accuracy', verbose=1)"
      ]
     },
     "execution_count": 64,
     "metadata": {},
     "output_type": "execute_result"
    }
   ],
   "source": [
    "# Fitting Decision Tree to the Training set\n",
    "from sklearn.ensemble import ExtraTreesClassifier\n",
    "from sklearn.model_selection import GridSearchCV\n",
    "\n",
    "parameter_candidates = [{'n_estimators': [50, 100, 125]}]\n",
    "\n",
    "classifier = GridSearchCV(estimator=ExtraTreesClassifier(criterion = 'entropy', max_depth=None,min_samples_split=2,\n",
    "                                                           min_samples_leaf=1, max_leaf_nodes=None,random_state = 0),\n",
    "                          param_grid=parameter_candidates, scoring='accuracy', n_jobs=-1, cv=5, verbose=1, refit=True, \n",
    "                          return_train_score=True)\n",
    "\n",
    "# Train the classifier on data1's feature and target data\n",
    "classifier.fit(X_train, y_train)"
   ]
  },
  {
   "cell_type": "code",
   "execution_count": 65,
   "metadata": {},
   "outputs": [
    {
     "name": "stdout",
     "output_type": "stream",
     "text": [
      "{'n_estimators': 125}\n",
      "ExtraTreesClassifier(bootstrap=False, class_weight=None, criterion='entropy',\n",
      "           max_depth=None, max_features='auto', max_leaf_nodes=None,\n",
      "           min_impurity_decrease=0.0, min_impurity_split=None,\n",
      "           min_samples_leaf=1, min_samples_split=2,\n",
      "           min_weight_fraction_leaf=0.0, n_estimators=125, n_jobs=None,\n",
      "           oob_score=False, random_state=0, verbose=0, warm_start=False)\n",
      "(6048,)\n",
      "(565892,)\n",
      "0.848\n"
     ]
    }
   ],
   "source": [
    "#Show the results of the hyperparameter tunning\n",
    "print(classifier.best_params_)\n",
    "print(classifier.best_estimator_)\n",
    "\n",
    "predictions=classifier.best_estimator_.predict(X_test)\n",
    "print(predictions.shape)\n",
    "predictions_test = classifier.best_estimator_.predict(test_ds)\n",
    "print(predictions_test.shape)\n",
    "print(round(accuracy_score(y_test, predictions),4))\n",
    "\n",
    "X_train_l2['ET'] = predictions"
   ]
  },
  {
   "cell_type": "code",
   "execution_count": 67,
   "metadata": {},
   "outputs": [
    {
     "ename": "ModuleNotFoundError",
     "evalue": "No module named 'sklearn.experimental'",
     "output_type": "error",
     "traceback": [
      "\u001b[1;31m---------------------------------------------------------------------------\u001b[0m",
      "\u001b[1;31mModuleNotFoundError\u001b[0m                       Traceback (most recent call last)",
      "\u001b[1;32m<ipython-input-67-c05d3f65657c>\u001b[0m in \u001b[0;36m<module>\u001b[1;34m()\u001b[0m\n\u001b[0;32m      1\u001b[0m \u001b[1;31m# Fitting Decision Tree to the Training set\u001b[0m\u001b[1;33m\u001b[0m\u001b[1;33m\u001b[0m\u001b[0m\n\u001b[1;32m----> 2\u001b[1;33m \u001b[1;32mfrom\u001b[0m \u001b[0msklearn\u001b[0m\u001b[1;33m.\u001b[0m\u001b[0mexperimental\u001b[0m \u001b[1;32mimport\u001b[0m \u001b[0menable_hist_gradient_boosting\u001b[0m\u001b[1;33m\u001b[0m\u001b[0m\n\u001b[0m\u001b[0;32m      3\u001b[0m \u001b[1;32mfrom\u001b[0m \u001b[0msklearn\u001b[0m\u001b[1;33m.\u001b[0m\u001b[0mensemble\u001b[0m \u001b[1;32mimport\u001b[0m \u001b[0mHistGradientBoostingClassifier\u001b[0m\u001b[1;33m\u001b[0m\u001b[0m\n\u001b[0;32m      4\u001b[0m \u001b[1;33m\u001b[0m\u001b[0m\n\u001b[0;32m      5\u001b[0m \u001b[0mparameter_candidates\u001b[0m \u001b[1;33m=\u001b[0m \u001b[1;33m[\u001b[0m\u001b[1;33m{\u001b[0m\u001b[1;34m'max_iter'\u001b[0m\u001b[1;33m:\u001b[0m \u001b[1;33m[\u001b[0m\u001b[1;36m50\u001b[0m\u001b[1;33m,\u001b[0m \u001b[1;36m100\u001b[0m\u001b[1;33m,\u001b[0m \u001b[1;36m125\u001b[0m\u001b[1;33m]\u001b[0m\u001b[1;33m,\u001b[0m \u001b[1;34m'learning_rate'\u001b[0m\u001b[1;33m:\u001b[0m \u001b[1;33m[\u001b[0m\u001b[1;36m0.5\u001b[0m\u001b[1;33m,\u001b[0m\u001b[1;36m0.2\u001b[0m\u001b[1;33m,\u001b[0m\u001b[1;36m0.1\u001b[0m\u001b[1;33m]\u001b[0m\u001b[1;33m}\u001b[0m\u001b[1;33m]\u001b[0m\u001b[1;33m\u001b[0m\u001b[0m\n",
      "\u001b[1;31mModuleNotFoundError\u001b[0m: No module named 'sklearn.experimental'"
     ]
    }
   ],
   "source": [
    "# Fitting Decision Tree to the Training set\n",
    "from sklearn.experimental import enable_hist_gradient_boosting\n",
    "from sklearn.ensemble import HistGradientBoostingClassifier\n",
    "\n",
    "parameter_candidates = [{'max_iter': [50, 100, 125], 'learning_rate': [0.5,0.2,0.1]}]\n",
    "\n",
    "classifier = GridSearchCV(estimator=GradientBoostingClassifier(min_samples_leaf=20, random_state=0,verbose=1),\n",
    "                          param_grid=parameter_candidates, n_jobs=-1, cv=5, verbose=1, return_train_score=True)\n",
    "\n",
    "# Train the classifier on data1's feature and target data\n",
    "classifier.fit(X_train, y_train)"
   ]
  },
  {
   "cell_type": "markdown",
   "metadata": {},
   "source": [
    "### Scoring and evaluating the model"
   ]
  },
  {
   "cell_type": "code",
   "execution_count": 32,
   "metadata": {},
   "outputs": [
    {
     "name": "stdout",
     "output_type": "stream",
     "text": [
      "Confusion Matrix:  [[415  91   1   0   7   1  30]\n",
      " [ 91 368  15   0  38   7   6]\n",
      " [  0   1 457  25  10  58   0]\n",
      " [  0   0   9 522   0  13   0]\n",
      " [  4  27   5   0 485   4   0]\n",
      " [  0   6  56   7   9 481   0]\n",
      " [ 17   2   0   0   0   0 512]]\n",
      "Accuracy:  0.8571428571428571\n"
     ]
    }
   ],
   "source": [
    "# Predicting the Test set results\n",
    "y_pred = classifier.predict(X_test)\n",
    "\n",
    "# Making the Confusion Matrix\n",
    "from sklearn.metrics import confusion_matrix,accuracy_score,roc_auc_score,roc_curve,auc\n",
    "cm = confusion_matrix(y_test, y_pred)\n",
    "print('Confusion Matrix: ',cm)\n",
    "\n",
    "acc = accuracy_score(y_test, y_pred)\n",
    "print('Accuracy: ',acc)\n"
   ]
  },
  {
   "cell_type": "markdown",
   "metadata": {},
   "source": [
    "## Showing the results"
   ]
  },
  {
   "cell_type": "code",
   "execution_count": 33,
   "metadata": {},
   "outputs": [
    {
     "data": {
      "text/plain": [
       "<matplotlib.axes._subplots.AxesSubplot at 0x183b67cc128>"
      ]
     },
     "execution_count": 33,
     "metadata": {},
     "output_type": "execute_result"
    },
    {
     "data": {
      "image/png": "[encoded data removed]",
      "text/plain": [
       "<Figure size 432x288 with 2 Axes>"
      ]
     },
     "metadata": {},
     "output_type": "display_data"
    }
   ],
   "source": [
    "import seaborn as sn\n",
    "\n",
    "df_cm = pd.DataFrame(cm, range(cm.shape[0]),\n",
    "                  range(cm.shape[1]))\n",
    "#plt.figure(figsize = (10,7))\n",
    "sn.set(font_scale=1.4) #for label size\n",
    "sn.heatmap(df_cm, annot=True,fmt='.2f',annot_kws={\"size\": 10})# font size"
   ]
  },
  {
   "cell_type": "code",
   "execution_count": 14,
   "metadata": {},
   "outputs": [
    {
     "data": {
      "image/png": "[encoded data removed]",
      "text/plain": [
       "<Figure size 432x288 with 1 Axes>"
      ]
     },
     "metadata": {},
     "output_type": "display_data"
    }
   ],
   "source": [
    "# ROC Curve\n",
    "# plot no skill\n",
    "plt.title('Receiver Operating Characteristic')\n",
    "plt.plot(fpr, tpr, 'b', label = 'AUC = %0.2f' % roc_auc)\n",
    "plt.legend(loc = 'lower right')\n",
    "plt.plot([0, 1], [0, 1],'r--')\n",
    "plt.xlim([0, 1])\n",
    "plt.ylim([0, 1])\n",
    "plt.ylabel('True Positive Rate')\n",
    "plt.xlabel('False Positive Rate')\n",
    "plt.show()\n"
   ]
  },
  {
   "cell_type": "markdown",
   "metadata": {},
   "source": [
    "## Building and training a XGBoosted Classifier"
   ]
  },
  {
   "cell_type": "code",
   "execution_count": 14,
   "metadata": {
    "collapsed": true
   },
   "outputs": [],
   "source": [
    "from xgboost import XGBClassifier\n",
    "from sklearn.metrics import accuracy_score"
   ]
  },
  {
   "cell_type": "markdown",
   "metadata": {},
   "source": [
    "### Simple train and score "
   ]
  },
  {
   "cell_type": "code",
   "execution_count": 15,
   "metadata": {},
   "outputs": [
    {
     "name": "stdout",
     "output_type": "stream",
     "text": [
      "Accuracy: 74.87%\n"
     ]
    }
   ],
   "source": [
    "model = XGBClassifier()\n",
    "model.fit(X_train, y_train)\n",
    "# make predictions for test data\n",
    "y_pred = model.predict(X_test)\n",
    "predictions = [round(value) for value in y_pred]\n",
    "# evaluate predictions\n",
    "accuracy = accuracy_score(y_test, predictions)\n",
    "print(\"Accuracy: %.2f%%\" % (accuracy * 100.0))"
   ]
  },
  {
   "cell_type": "markdown",
   "metadata": {},
   "source": [
    "### Use early stopping to prevent overfiting"
   ]
  },
  {
   "cell_type": "code",
   "execution_count": 17,
   "metadata": {},
   "outputs": [
    {
     "name": "stdout",
     "output_type": "stream",
     "text": [
      "[0]\tvalidation_0-mlogloss:1.81184\n",
      "Will train until validation_0-mlogloss hasn't improved in 10 rounds.\n",
      "[1]\tvalidation_0-mlogloss:1.70536\n",
      "[2]\tvalidation_0-mlogloss:1.60817\n",
      "[3]\tvalidation_0-mlogloss:1.52564\n",
      "[4]\tvalidation_0-mlogloss:1.45405\n",
      "[5]\tvalidation_0-mlogloss:1.39166\n",
      "[6]\tvalidation_0-mlogloss:1.33615\n",
      "[7]\tvalidation_0-mlogloss:1.28701\n",
      "[8]\tvalidation_0-mlogloss:1.24252\n",
      "[9]\tvalidation_0-mlogloss:1.20185\n",
      "[10]\tvalidation_0-mlogloss:1.16566\n",
      "[11]\tvalidation_0-mlogloss:1.13161\n",
      "[12]\tvalidation_0-mlogloss:1.10187\n",
      "[13]\tvalidation_0-mlogloss:1.07309\n",
      "[14]\tvalidation_0-mlogloss:1.04709\n",
      "[15]\tvalidation_0-mlogloss:1.02314\n",
      "[16]\tvalidation_0-mlogloss:1.00087\n",
      "[17]\tvalidation_0-mlogloss:0.979585\n",
      "[18]\tvalidation_0-mlogloss:0.961162\n",
      "[19]\tvalidation_0-mlogloss:0.944345\n",
      "[20]\tvalidation_0-mlogloss:0.927887\n",
      "[21]\tvalidation_0-mlogloss:0.912448\n",
      "[22]\tvalidation_0-mlogloss:0.897978\n",
      "[23]\tvalidation_0-mlogloss:0.884746\n",
      "[24]\tvalidation_0-mlogloss:0.872194\n",
      "[25]\tvalidation_0-mlogloss:0.86135\n",
      "[26]\tvalidation_0-mlogloss:0.850859\n",
      "[27]\tvalidation_0-mlogloss:0.840192\n",
      "[28]\tvalidation_0-mlogloss:0.830766\n",
      "[29]\tvalidation_0-mlogloss:0.821667\n",
      "[30]\tvalidation_0-mlogloss:0.81308\n",
      "[31]\tvalidation_0-mlogloss:0.805381\n",
      "[32]\tvalidation_0-mlogloss:0.797806\n",
      "[33]\tvalidation_0-mlogloss:0.79061\n",
      "[34]\tvalidation_0-mlogloss:0.784409\n",
      "[35]\tvalidation_0-mlogloss:0.777697\n",
      "[36]\tvalidation_0-mlogloss:0.771665\n",
      "[37]\tvalidation_0-mlogloss:0.766238\n",
      "[38]\tvalidation_0-mlogloss:0.760811\n",
      "[39]\tvalidation_0-mlogloss:0.755335\n",
      "[40]\tvalidation_0-mlogloss:0.750256\n",
      "[41]\tvalidation_0-mlogloss:0.745287\n",
      "[42]\tvalidation_0-mlogloss:0.740927\n",
      "[43]\tvalidation_0-mlogloss:0.73663\n",
      "[44]\tvalidation_0-mlogloss:0.732068\n",
      "[45]\tvalidation_0-mlogloss:0.728019\n",
      "[46]\tvalidation_0-mlogloss:0.724066\n",
      "[47]\tvalidation_0-mlogloss:0.720815\n",
      "[48]\tvalidation_0-mlogloss:0.717392\n",
      "[49]\tvalidation_0-mlogloss:0.713658\n",
      "[50]\tvalidation_0-mlogloss:0.710379\n",
      "[51]\tvalidation_0-mlogloss:0.707149\n",
      "[52]\tvalidation_0-mlogloss:0.703898\n",
      "[53]\tvalidation_0-mlogloss:0.70115\n",
      "[54]\tvalidation_0-mlogloss:0.697972\n",
      "[55]\tvalidation_0-mlogloss:0.695513\n",
      "[56]\tvalidation_0-mlogloss:0.693178\n",
      "[57]\tvalidation_0-mlogloss:0.690494\n",
      "[58]\tvalidation_0-mlogloss:0.688374\n",
      "[59]\tvalidation_0-mlogloss:0.685957\n",
      "[60]\tvalidation_0-mlogloss:0.683423\n",
      "[61]\tvalidation_0-mlogloss:0.680923\n",
      "[62]\tvalidation_0-mlogloss:0.678737\n",
      "[63]\tvalidation_0-mlogloss:0.676557\n",
      "[64]\tvalidation_0-mlogloss:0.674479\n",
      "[65]\tvalidation_0-mlogloss:0.672227\n",
      "[66]\tvalidation_0-mlogloss:0.669988\n",
      "[67]\tvalidation_0-mlogloss:0.668124\n",
      "[68]\tvalidation_0-mlogloss:0.666232\n",
      "[69]\tvalidation_0-mlogloss:0.664284\n",
      "[70]\tvalidation_0-mlogloss:0.662345\n",
      "[71]\tvalidation_0-mlogloss:0.660581\n",
      "[72]\tvalidation_0-mlogloss:0.659151\n",
      "[73]\tvalidation_0-mlogloss:0.657571\n",
      "[74]\tvalidation_0-mlogloss:0.655342\n",
      "[75]\tvalidation_0-mlogloss:0.653611\n",
      "[76]\tvalidation_0-mlogloss:0.652269\n",
      "[77]\tvalidation_0-mlogloss:0.651073\n",
      "[78]\tvalidation_0-mlogloss:0.64932\n",
      "[79]\tvalidation_0-mlogloss:0.648034\n",
      "[80]\tvalidation_0-mlogloss:0.646556\n",
      "[81]\tvalidation_0-mlogloss:0.644651\n",
      "[82]\tvalidation_0-mlogloss:0.643441\n",
      "[83]\tvalidation_0-mlogloss:0.641236\n",
      "[84]\tvalidation_0-mlogloss:0.640314\n",
      "[85]\tvalidation_0-mlogloss:0.638693\n",
      "[86]\tvalidation_0-mlogloss:0.636962\n",
      "[87]\tvalidation_0-mlogloss:0.635491\n",
      "[88]\tvalidation_0-mlogloss:0.633852\n",
      "[89]\tvalidation_0-mlogloss:0.632589\n",
      "[90]\tvalidation_0-mlogloss:0.63175\n",
      "[91]\tvalidation_0-mlogloss:0.630481\n",
      "[92]\tvalidation_0-mlogloss:0.629176\n",
      "[93]\tvalidation_0-mlogloss:0.627693\n",
      "[94]\tvalidation_0-mlogloss:0.626395\n",
      "[95]\tvalidation_0-mlogloss:0.624847\n",
      "[96]\tvalidation_0-mlogloss:0.623857\n",
      "[97]\tvalidation_0-mlogloss:0.622736\n",
      "[98]\tvalidation_0-mlogloss:0.621107\n",
      "[99]\tvalidation_0-mlogloss:0.619613\n",
      "Accuracy: 74.87%\n"
     ]
    }
   ],
   "source": [
    "# fit model on training data\n",
    "model = XGBClassifier()\n",
    "eval_set = [(X_test, y_test)]\n",
    "model.fit(X_train, y_train, early_stopping_rounds=10, eval_metric=\"mlogloss\", eval_set=eval_set, verbose=True)\n",
    "# make predictions for test data\n",
    "y_pred = model.predict(X_test)\n",
    "predictions = [round(value) for value in y_pred]\n",
    "# evaluate predictions\n",
    "accuracy = accuracy_score(y_test, predictions)\n",
    "print(\"Accuracy: %.2f%%\" % (accuracy * 100.0))\n"
   ]
  },
  {
   "cell_type": "code",
   "execution_count": 18,
   "metadata": {},
   "outputs": [
    {
     "name": "stdout",
     "output_type": "stream",
     "text": [
      "[0.11665306 0.00693619 0.00625086 0.02033894 0.01081294 0.01420751\n",
      " 0.02833169 0.01276159 0.00985048 0.01355531 0.02229558 0.00711938\n",
      " 0.0211423  0.0933722  0.0066583  0.01004208 0.05041707 0.02392996\n",
      " 0.01250993 0.01098667 0.         0.04807513 0.00604195 0.0339755\n",
      " 0.02577008 0.00442801 0.00190394 0.01292626 0.         0.\n",
      " 0.00368925 0.         0.02352204 0.01841108 0.00862217 0.\n",
      " 0.         0.         0.02629612 0.19710079 0.00738642 0.01835677\n",
      " 0.01105236 0.00128078 0.00456985 0.         0.         0.01546755\n",
      " 0.02246774 0.01048422]\n"
     ]
    }
   ],
   "source": [
    "print(model.feature_importances_)"
   ]
  },
  {
   "cell_type": "code",
   "execution_count": 23,
   "metadata": {},
   "outputs": [
    {
     "data": {
      "text/plain": [
       "<Figure size 720x1440 with 0 Axes>"
      ]
     },
     "metadata": {},
     "output_type": "display_data"
    },
    {
     "data": {
      "image/png": "[encoded data removed]",
      "text/plain": [
       "<Figure size 432x288 with 1 Axes>"
      ]
     },
     "metadata": {
      "needs_background": "light"
     },
     "output_type": "display_data"
    }
   ],
   "source": [
    "from xgboost import plot_importance\n",
    "plt.figure(figsize=(10,20))\n",
    "plot_importance(model)\n",
    "plt.show()"
   ]
  },
  {
   "cell_type": "markdown",
   "metadata": {},
   "source": [
    "### Hyperparameter tunning"
   ]
  },
  {
   "cell_type": "code",
   "execution_count": 25,
   "metadata": {},
   "outputs": [
    {
     "name": "stdout",
     "output_type": "stream",
     "text": [
      "Fitting 10 folds for each of 16 candidates, totalling 160 fits\n"
     ]
    },
    {
     "name": "stderr",
     "output_type": "stream",
     "text": [
      "[Parallel(n_jobs=-1)]: Using backend LokyBackend with 8 concurrent workers.\n",
      "[Parallel(n_jobs=-1)]: Done  34 tasks      | elapsed:  3.8min\n",
      "[Parallel(n_jobs=-1)]: Done 160 out of 160 | elapsed: 31.3min finished\n"
     ]
    }
   ],
   "source": [
    "from sklearn.model_selection import GridSearchCV\n",
    "from sklearn.model_selection import StratifiedKFold\n",
    "\n",
    "model = XGBClassifier()\n",
    "\n",
    "n_estimators = [50, 100, 150, 200]\n",
    "max_depth = [2, 4, 6, 8]\n",
    "param_grid = dict(max_depth=max_depth, n_estimators=n_estimators)\n",
    "\n",
    "kfold = StratifiedKFold(n_splits=10, shuffle=True, random_state=7)\n",
    "grid_search = GridSearchCV(model, param_grid, scoring=\"neg_log_loss\", n_jobs=-1, cv=kfold, verbose=1)\n",
    "result = grid_search.fit(X_train, y_train)"
   ]
  },
  {
   "cell_type": "code",
   "execution_count": 27,
   "metadata": {},
   "outputs": [
    {
     "name": "stdout",
     "output_type": "stream",
     "text": [
      "Best: -0.368889 using {'max_depth': 8, 'n_estimators': 200}\n",
      "-0.792418 (0.019440) with: {'max_depth': 2, 'n_estimators': 50}\n",
      "-0.682119 (0.021245) with: {'max_depth': 2, 'n_estimators': 100}\n",
      "-0.633146 (0.021427) with: {'max_depth': 2, 'n_estimators': 150}\n",
      "-0.602118 (0.021040) with: {'max_depth': 2, 'n_estimators': 200}\n",
      "-0.642494 (0.020331) with: {'max_depth': 4, 'n_estimators': 50}\n",
      "-0.543494 (0.020418) with: {'max_depth': 4, 'n_estimators': 100}\n",
      "-0.495503 (0.019557) with: {'max_depth': 4, 'n_estimators': 150}\n",
      "-0.468006 (0.020418) with: {'max_depth': 4, 'n_estimators': 200}\n",
      "-0.539366 (0.019385) with: {'max_depth': 6, 'n_estimators': 50}\n",
      "-0.454329 (0.020631) with: {'max_depth': 6, 'n_estimators': 100}\n",
      "-0.417578 (0.024626) with: {'max_depth': 6, 'n_estimators': 150}\n",
      "-0.397278 (0.024947) with: {'max_depth': 6, 'n_estimators': 200}\n",
      "-0.473768 (0.020015) with: {'max_depth': 8, 'n_estimators': 50}\n",
      "-0.402162 (0.022094) with: {'max_depth': 8, 'n_estimators': 100}\n",
      "-0.378367 (0.025373) with: {'max_depth': 8, 'n_estimators': 150}\n",
      "-0.368889 (0.027516) with: {'max_depth': 8, 'n_estimators': 200}\n"
     ]
    }
   ],
   "source": [
    "print(\"Best: %f using %s\" % (result.best_score_, result.best_params_))\n",
    "means = result.cv_results_['mean_test_score']\n",
    "stds = result.cv_results_['std_test_score']\n",
    "params = result.cv_results_['params']\n",
    "\n",
    "for mean, stdev, param in zip(means, stds, params):\n",
    "    print(\"%f (%f) with: %r\" % (mean, stdev, param))"
   ]
  },
  {
   "cell_type": "code",
   "execution_count": 70,
   "metadata": {},
   "outputs": [
    {
     "name": "stdout",
     "output_type": "stream",
     "text": [
      "The scikit-learn version is 0.20.3.\n"
     ]
    }
   ],
   "source": [
    "import sklearn\n",
    "print('The scikit-learn version is {}.'.format(sklearn.__version__))"
   ]
  },
  {
   "cell_type": "code",
   "execution_count": 1,
   "metadata": {},
   "outputs": [
    {
     "ename": "ModuleNotFoundError",
     "evalue": "No module named 'lightgbm'",
     "output_type": "error",
     "traceback": [
      "\u001b[1;31m---------------------------------------------------------------------------\u001b[0m",
      "\u001b[1;31mModuleNotFoundError\u001b[0m                       Traceback (most recent call last)",
      "\u001b[1;32m<ipython-input-1-d1e428c0cb5b>\u001b[0m in \u001b[0;36m<module>\u001b[1;34m\u001b[0m\n\u001b[1;32m----> 1\u001b[1;33m \u001b[1;32mfrom\u001b[0m \u001b[0mlightgbm\u001b[0m \u001b[1;32mimport\u001b[0m \u001b[0mLGBMModel\u001b[0m\u001b[1;33m,\u001b[0m\u001b[0mLGBMClassifier\u001b[0m\u001b[1;33m\u001b[0m\u001b[1;33m\u001b[0m\u001b[0m\n\u001b[0m",
      "\u001b[1;31mModuleNotFoundError\u001b[0m: No module named 'lightgbm'"
     ]
    }
   ],
   "source": [
    "from lightgbm import LGBMModel,LGBMClassifier"
   ]
  },
  {
   "cell_type": "code",
   "execution_count": null,
   "metadata": {},
   "outputs": [],
   "source": []
  }
 ],
 "metadata": {
  "kernelspec": {
   "display_name": "Python 3",
   "language": "python",
   "name": "python3"
  },
  "language_info": {
   "codemirror_mode": {
    "name": "ipython",
    "version": 3
   },
   "file_extension": ".py",
   "mimetype": "text/x-python",
   "name": "python",
   "nbconvert_exporter": "python",
   "pygments_lexer": "ipython3",
   "version": "3.6.9"
  }
 },
 "nbformat": 4,
 "nbformat_minor": 2
}
