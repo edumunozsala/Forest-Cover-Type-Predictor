{
 "cells": [
  {
   "cell_type": "markdown",
   "metadata": {},
   "source": [
    "## Ensembling With StackNet"
   ]
  },
  {
   "cell_type": "markdown",
   "metadata": {},
   "source": [
    "![](https://github.com/kaz-Anova/StackNet/raw/master/images/StackNet_Logo.png?raw=true)"
   ]
  },
  {
   "cell_type": "markdown",
   "metadata": {},
   "source": [
    "In this kernel we will take a look on how to use StackNet to stack multiple levels of models in order to efficiently blend models. StackNet is a powerful package that works really well for competitions! We are going to stack a random forest on top of 3 GBM models as an example. We will use data from the [IEEE Fraud Detection](https://www.kaggle.com/c/ieee-fraud-detection) competition to explain StackNet.\n",
    "\n",
    "StackNet was created by Kaggle Grandmaster Marios Michailidis ([kazanova](https://www.kaggle.com/kazanova)) as part of his PhD. Thanks to [Kiran Kunapuli](https://www.kaggle.com/kirankunapuli) for uploading the package as [a Kaggle dataset](https://www.kaggle.com/kirankunapuli/pystacknet) so it can conveniently be used with Kaggle kernels.\n",
    "\n",
    "Let's dive in!"
   ]
  },
  {
   "cell_type": "markdown",
   "metadata": {},
   "source": [
    "## Table Of Contents"
   ]
  },
  {
   "cell_type": "markdown",
   "metadata": {},
   "source": [
    "- [Dependencies](#1)\n",
    "- [Metric (AUC)](#2)\n",
    "- [Data Preparation](#3)\n",
    "- [Modeling](#4)\n",
    "- [Evaluation](#5)\n",
    "- [Submission](#6)"
   ]
  },
  {
   "cell_type": "markdown",
   "metadata": {},
   "source": [
    "## Dependencies <a id=\"1\"></a>"
   ]
  },
  {
   "cell_type": "code",
   "execution_count": 1,
   "metadata": {
    "_kg_hide-output": true
   },
   "outputs": [],
   "source": [
    "# Import PyStackNet Package\n",
    "# Source: https://www.kaggle.com/kirankunapuli/pystacknet\n",
    "import os\n",
    "import sys\n",
    "sys.path.append(\"../input/pystacknet/repository/h2oai-pystacknet-af571e0\")\n",
    "import pystacknet"
   ]
  },
  {
   "cell_type": "code",
   "execution_count": 2,
   "metadata": {
    "_kg_hide-output": true
   },
   "outputs": [],
   "source": [
    "# Standard Dependencies\n",
    "import gc\n",
    "import sys\n",
    "import time\n",
    "import numpy as np\n",
    "import pandas as pd\n",
    "import matplotlib.pyplot as plt\n",
    "from sklearn.preprocessing import LabelEncoder\n",
    "from sklearn.model_selection import train_test_split\n",
    "from sklearn.metrics import roc_auc_score, roc_curve\n",
    "\n",
    "# Machine Learning\n",
    "from lightgbm import LGBMRegressor\n",
    "from catboost import CatBoostRegressor\n",
    "from sklearn.ensemble import RandomForestRegressor, GradientBoostingRegressor\n",
    "\n",
    "# Specify paths and key features\n",
    "KAGGLE_DIR = '../input/ieee-fraud-detection/'\n",
    "TARGET = 'isFraud'\n",
    "\n",
    "# Seed for reproducability\n",
    "seed = 1234\n",
    "np.random.seed(seed)\n",
    "\n",
    "# For keeping time. Limit for Kaggle kernels is set to approx. 9 hours.\n",
    "t_start = time.time()"
   ]
  },
  {
   "cell_type": "code",
   "execution_count": 3,
   "metadata": {
    "_kg_hide-input": true
   },
   "outputs": [
    {
     "name": "stdout",
     "output_type": "stream",
     "text": [
      "\n",
      "# Files and file sizes:\n",
      "sample_submission.csv         | 6.08 MB\n",
      "test_identity.csv             | 25.8 MB\n",
      "train_transaction.csv         | 683.35 MB\n",
      "test_transaction.csv          | 613.19 MB\n",
      "train_identity.csv            | 26.53 MB\n"
     ]
    }
   ],
   "source": [
    "# File sizes and specifications\n",
    "print('\\n# Files and file sizes:')\n",
    "for file in os.listdir(KAGGLE_DIR):\n",
    "    print('{}| {} MB'.format(file.ljust(30), \n",
    "                             str(round(os.path.getsize(KAGGLE_DIR + file) / 1000000, 2))))"
   ]
  },
  {
   "cell_type": "markdown",
   "metadata": {},
   "source": [
    "## Metric (AUC) <a id=\"2\"></a>"
   ]
  },
  {
   "cell_type": "markdown",
   "metadata": {},
   "source": [
    "The Metric used in this competition is \"[Area Under ROC Curve (AUC)](https://en.wikipedia.org/wiki/Receiver_operating_characteristic)\". We create this curve by plotting the true positive rate (TPR) against the false positive rate (FPR) at different threshold settings. \n",
    "This is very convenient since with binary classification problems like fraud detection the accuracy score is not that informative. For example, if we predict only 0 (not fraud) on this dataset, then we will get an accuracy score of 0.965. The AUC score will be 0.5 (no better than random). All naive baselines will get an AUC score of approximately 0.5.\n",
    "\n",
    "To calculate the AUC score we can use [sklearn's roc_auc_score function](https://scikit-learn.org/stable/modules/generated/sklearn.metrics.roc_auc_score.html) straight out of the box."
   ]
  },
  {
   "cell_type": "markdown",
   "metadata": {},
   "source": [
    "Image: An example of an ROC curve. AOC is a typo and should be AUC.\n",
    "\n",
    "![](https://miro.medium.com/max/722/1*pk05QGzoWhCgRiiFbz-oKQ.png)"
   ]
  },
  {
   "cell_type": "code",
   "execution_count": 4,
   "metadata": {},
   "outputs": [],
   "source": [
    "def auc_score(y_true, y_pred):\n",
    "    \"\"\"\n",
    "    Calculates the Area Under ROC Curve (AUC)\n",
    "    \"\"\"\n",
    "    return roc_auc_score(y_true, y_pred)"
   ]
  },
  {
   "cell_type": "markdown",
   "metadata": {},
   "source": [
    "To plot the ROC curve we will use a function using sklearn and matplotlib. An example of this visualization is shown in the evaluation section of this kernel."
   ]
  },
  {
   "cell_type": "code",
   "execution_count": 5,
   "metadata": {
    "_kg_hide-output": true
   },
   "outputs": [],
   "source": [
    "def plot_curve(y_true_train, y_pred_train, y_true_val, y_pred_val, model_name):\n",
    "    \"\"\"\n",
    "    Plots the ROC Curve given predictions and labels\n",
    "    \"\"\"\n",
    "    fpr_train, tpr_train, _ = roc_curve(y_true_train, y_pred_train, pos_label=1)\n",
    "    fpr_val, tpr_val, _ = roc_curve(y_true_val, y_pred_val, pos_label=1)\n",
    "    plt.figure(figsize=(8, 8))\n",
    "    plt.plot(fpr_train, tpr_train, color='black',\n",
    "             lw=2, label=f\"ROC train curve (AUC = {round(roc_auc_score(y_true_train, y_pred_train), 4)})\")\n",
    "    plt.plot(fpr_val, tpr_val, color='darkorange',\n",
    "             lw=2, label=f\"ROC validation curve (AUC = {round(roc_auc_score(y_true_val, y_pred_val), 4)})\")\n",
    "    plt.plot([0, 1], [0, 1], color='navy', lw=2, linestyle='--')\n",
    "    plt.xlim([-0.05, 1.05])\n",
    "    plt.ylim([-0.05, 1.05])\n",
    "    plt.xlabel('False Positive Rate', fontsize=16)\n",
    "    plt.ylabel('True Positive Rate', fontsize=16)\n",
    "    plt.xticks(fontsize=14)\n",
    "    plt.yticks(fontsize=14)\n",
    "    plt.title(f'ROC Plot for {model_name}', weight=\"bold\", fontsize=20)\n",
    "    plt.legend(loc=\"lower right\", fontsize=16)"
   ]
  },
  {
   "cell_type": "markdown",
   "metadata": {},
   "source": [
    "## Data Preparation <a id=\"3\"></a>"
   ]
  },
  {
   "cell_type": "markdown",
   "metadata": {},
   "source": [
    "Since this kernel is meant to explain StackNet and establish a baseline we will not go into advanced feature engineering and EDA here. However, your performance will greatly benefit from feature engineering so I encourage you to explore it. A good kernel which does that for this competition can be found [here](https://www.kaggle.com/kyakovlev/ieee-gb-2-make-amount-useful-again?scriptVersionId=18874747)."
   ]
  },
  {
   "cell_type": "code",
   "execution_count": 6,
   "metadata": {
    "_kg_hide-output": true
   },
   "outputs": [
    {
     "data": {
      "text/plain": [
       "105"
      ]
     },
     "execution_count": 6,
     "metadata": {},
     "output_type": "execute_result"
    }
   ],
   "source": [
    "# Load in datasets\n",
    "train_transaction = pd.read_csv(f\"{KAGGLE_DIR}train_transaction.csv\", index_col='TransactionID')\n",
    "test_transaction = pd.read_csv(f\"{KAGGLE_DIR}test_transaction.csv\", index_col='TransactionID')\n",
    "train_identity = pd.read_csv(f\"{KAGGLE_DIR}train_identity.csv\", index_col='TransactionID')\n",
    "test_identity = pd.read_csv(f\"{KAGGLE_DIR}test_identity.csv\", index_col='TransactionID')\n",
    "\n",
    "# Merge datasets into full training and test dataframe\n",
    "train_df = train_transaction.merge(train_identity, how='left', left_index=True, right_index=True).reset_index()\n",
    "test_df = test_transaction.merge(test_identity, how='left', left_index=True, right_index=True).reset_index()\n",
    "del train_identity, train_transaction, test_identity, test_transaction\n",
    "gc.collect()"
   ]
  },
  {
   "cell_type": "code",
   "execution_count": 7,
   "metadata": {},
   "outputs": [],
   "source": [
    "# Select only first 52 features\n",
    "# The other columns are quite noisy\n",
    "train_df = train_df.iloc[:, :53]\n",
    "test_df = test_df.iloc[:, :52]"
   ]
  },
  {
   "cell_type": "markdown",
   "metadata": {},
   "source": [
    "StackNet does not accept missing values (NaN's), Infinity values (inf) or values higher than 32 bytes (for example float64 or int64). Therefore, we have to fill in missing values and compress certain columns as the Pandas standard is 64 bytes. Big thanks to [Arjan Groen](https://www.kaggle.com/arjanso) for creating this convenient function. The function is taken from [this Kaggle kernel](https://www.kaggle.com/arjanso/reducing-dataframe-memory-size-by-65)."
   ]
  },
  {
   "cell_type": "code",
   "execution_count": 8,
   "metadata": {},
   "outputs": [],
   "source": [
    "def reduce_mem_usage(df):\n",
    "    \"\"\"\n",
    "    Reduces memory usage for all columns in a Pandas DataFrame\n",
    "    \"\"\"\n",
    "    start_mem_usg = df.memory_usage().sum() / 1024**2 \n",
    "    print(\"Memory usage of properties dataframe is :\",start_mem_usg,\" MB\")\n",
    "    NAlist = [] # Keeps track of columns that have missing values filled in. \n",
    "    for col in df.columns:\n",
    "        if df[col].dtype != object:  # Exclude strings                       \n",
    "            # make variables for Int, max and min\n",
    "            IsInt = False\n",
    "            mx = df[col].max()\n",
    "            mn = df[col].min()\n",
    "            # Integer does not support NA, therefore, NA needs to be filled\n",
    "            if not np.isfinite(df[col]).all(): \n",
    "                NAlist.append(col)\n",
    "                df[col].fillna(mn-1,inplace=True)  \n",
    "                   \n",
    "            # test if column can be converted to an integer\n",
    "            asint = df[col].fillna(0).astype(np.int32)\n",
    "            result = (df[col] - asint)\n",
    "            result = result.sum()\n",
    "            if result > -0.01 and result < 0.01:\n",
    "                IsInt = True            \n",
    "            # Make Integer/unsigned Integer datatypes\n",
    "            if IsInt:\n",
    "                if mn >= 0:\n",
    "                    if mx < 255:\n",
    "                        df[col] = df[col].astype(np.uint8)\n",
    "                    elif mx < 65535:\n",
    "                        df[col] = df[col].astype(np.uint16)\n",
    "                    else:\n",
    "                        df[col] = df[col].astype(np.uint32)\n",
    "                else:\n",
    "                    if mn > np.iinfo(np.int8).min and mx < np.iinfo(np.int8).max:\n",
    "                        df[col] = df[col].astype(np.int8)\n",
    "                    elif mn > np.iinfo(np.int16).min and mx < np.iinfo(np.int16).max:\n",
    "                        df[col] = df[col].astype(np.int16)\n",
    "                    else:\n",
    "                        df[col] = df[col].astype(np.int32)\n",
    "            # Make float datatypes 32 bit\n",
    "            else:\n",
    "                df[col] = df[col].astype(np.float32)\n",
    "\n",
    "    # Print final result\n",
    "    mem_usg = df.memory_usage().sum() / 1024**2 \n",
    "    print(\"Memory usage of properties dataframe is after reduction is:\",mem_usg,\" MB\")\n",
    "    return df, NAlist"
   ]
  },
  {
   "cell_type": "code",
   "execution_count": 9,
   "metadata": {
    "_kg_hide-input": true
   },
   "outputs": [
    {
     "name": "stdout",
     "output_type": "stream",
     "text": [
      "Memory usage of properties dataframe is : 238.78964233398438  MB\n",
      "Memory usage of properties dataframe is after reduction is: 102.49939727783203  MB\n",
      "Memory usage of properties dataframe is : 201.01889038085938  MB\n",
      "Memory usage of properties dataframe is after reduction is: 87.94583320617676  MB\n"
     ]
    }
   ],
   "source": [
    "# Reduce memory\n",
    "train_df, _ = reduce_mem_usage(train_df)\n",
    "test_df, _ = reduce_mem_usage(test_df)"
   ]
  },
  {
   "cell_type": "code",
   "execution_count": 10,
   "metadata": {},
   "outputs": [],
   "source": [
    "# Drop nuisance columns and specify target variable\n",
    "X_train = train_df.drop([TARGET, 'TransactionID', 'TransactionDT'], axis=1)\n",
    "X_test = test_df.drop(['TransactionID', 'TransactionDT'], axis=1)\n",
    "target = train_df[TARGET]\n",
    "\n",
    "# Label Encoding\n",
    "lbl = LabelEncoder()\n",
    "for f in X_train.columns:\n",
    "    if X_train[f].dtype == 'object': \n",
    "        lbl.fit(list(X_train[f].values) + list(X_test[f].values))\n",
    "        X_train[f] = lbl.transform(list(X_train[f].values))\n",
    "        X_test[f] = lbl.transform(list(X_test[f].values))   "
   ]
  },
  {
   "cell_type": "code",
   "execution_count": 11,
   "metadata": {},
   "outputs": [],
   "source": [
    "# Split Train and Validation\n",
    "X_train, X_val, y_train, y_val = train_test_split(X_train,\n",
    "                                                  target,\n",
    "                                                  test_size=0.15, \n",
    "                                                  random_state=seed, \n",
    "                                                  stratify=target)"
   ]
  },
  {
   "cell_type": "markdown",
   "metadata": {},
   "source": [
    "## Modeling <a id=\"4\"></a>"
   ]
  },
  {
   "cell_type": "markdown",
   "metadata": {},
   "source": [
    "StackNet allows you to define all kinds of models. For example, Sklearn models, LightGBM, XGBoost, CatBoost and Keras models can all be used with StackNet.\n",
    "\n",
    "For the individual models, you are responsible for not overfitting. Therefore, it is advisable to first experiment with individual models and make sure they are sound, before combining them into StackNet. For this example we will use [sklearn's Gradient Boosting Regressor](https://scikit-learn.org/stable/modules/generated/sklearn.ensemble.GradientBoostingRegressor.html), a [LightGBM Regressor](https://lightgbm.readthedocs.io/en/latest/pythonapi/lightgbm.LGBMRegressor.html#lightgbm.LGBMRegressor) and a [CatBoost Regressor](https://catboost.ai/docs/concepts/python-reference_catboostregressor.html) in the 1st level. Then we will train a [Random Forest Regressor](https://scikit-learn.org/stable/modules/generated/sklearn.ensemble.RandomForestRegressor.html) in level 2, which takes the predictions of the models in the 1st level as input. StackNet takes care of the stacking and cross validation."
   ]
  },
  {
   "cell_type": "code",
   "execution_count": 12,
   "metadata": {
    "_cell_guid": "79c7e3d0-c299-4dcb-8224-4455121ee9b0",
    "_kg_hide-output": true,
    "_uuid": "d629ff2d2480ee46fbb7e2d37f6b5fab8052498a"
   },
   "outputs": [],
   "source": [
    "# Level 1 are the base models that take the training dataset as input\n",
    "l1_clf1 = GradientBoostingRegressor(n_estimators=400,\n",
    "                                    learning_rate=0.006,\n",
    "                                    min_samples_leaf=10,\n",
    "                                    max_depth=15, \n",
    "                                    max_features='sqrt', \n",
    "                                    subsample=0.85,\n",
    "                                    random_state=seed)\n",
    "\n",
    "l1_clf2 = LGBMRegressor(boosting_type='gbdt',\n",
    "                        objective=\"binary\",\n",
    "                        metric=\"AUC\",\n",
    "                        boost_from_average=\"false\",\n",
    "                        learning_rate=0.0045,\n",
    "                        num_leaves=491,\n",
    "                        max_depth=20,\n",
    "                        min_child_weight=0.035,\n",
    "                        feature_fraction=0.38,\n",
    "                        bagging_fraction=0.42,\n",
    "                        min_data_in_leaf=100,\n",
    "                        max_bin=255,\n",
    "                        importance_type='split',\n",
    "                        reg_alpha=0.4,\n",
    "                        reg_lambda=0.65,\n",
    "                        bagging_seed=seed,\n",
    "                        random_state=seed,\n",
    "                        verbosity=-1,\n",
    "                        subsample=0.85,\n",
    "                        colsample_bytree=0.8,\n",
    "                        min_child_samples=79)\n",
    "\n",
    "l1_clf3 = CatBoostRegressor(learning_rate=0.2,\n",
    "                            bagging_temperature=0.1, \n",
    "                            l2_leaf_reg=30,\n",
    "                            depth=12, \n",
    "                            max_bin=255,\n",
    "                            iterations=100,\n",
    "                            loss_function='Logloss',\n",
    "                            objective='RMSE',\n",
    "                            eval_metric=\"AUC\",\n",
    "                            bootstrap_type='Bayesian',\n",
    "                            random_seed=seed,\n",
    "                            early_stopping_rounds=10)\n",
    "\n",
    "# Level 2 models will take predictions from level 1 models as input\n",
    "# Remember to keep level 2 models smaller\n",
    "# Basic models like Ridge Regression with large regularization or small random forests work well\n",
    "l2_clf1 = RandomForestRegressor(n_estimators=250, \n",
    "                                max_depth=5, \n",
    "                                max_features='sqrt', \n",
    "                                random_state=seed)"
   ]
  },
  {
   "cell_type": "markdown",
   "metadata": {},
   "source": [
    "The model tree that StackNet takes as input is a list of lists. The 1st list defines the 1st level, the 2nd one the 2nd level, etc. You can build a model tree of arbitrary depth and width."
   ]
  },
  {
   "cell_type": "code",
   "execution_count": 13,
   "metadata": {},
   "outputs": [],
   "source": [
    "# Specify model tree for StackNet\n",
    "models = [[l1_clf1, l1_clf2, l1_clf3], # Level 1\n",
    "          [l2_clf1]] # Level 2"
   ]
  },
  {
   "cell_type": "markdown",
   "metadata": {},
   "source": [
    "The model is compiled and fitted through the a familiar sklearn-like API. The StackNetClassifier will perform cross-validation (CV) and will output the CV scores for each model. To make sure we can output a probability of fraud we specify \"use_proba=True\".\n",
    "\n",
    "The \"folds\" argument in StackNetClassifier can also accept an iterable of train/test splits. Since the target distibution is imbalanced you can probably improve on the CV strategy by first yielding stratified train/test split with for example [sklearn's StratifiedKFold](https://scikit-learn.org/stable/modules/generated/sklearn.model_selection.StratifiedKFold.html)."
   ]
  },
  {
   "cell_type": "code",
   "execution_count": 14,
   "metadata": {
    "_kg_hide-output": true
   },
   "outputs": [
    {
     "name": "stderr",
     "output_type": "stream",
     "text": [
      "/opt/conda/lib/python3.6/site-packages/sklearn/externals/joblib/__init__.py:15: DeprecationWarning: sklearn.externals.joblib is deprecated in 0.21 and will be removed in 0.23. Please import this functionality directly from joblib, which can be installed with: pip install joblib. If this warning is raised when loading pickled models, you may need to re-serialize those models with scikit-learn 0.21+.\n",
      "  warnings.warn(msg, category=DeprecationWarning)\n"
     ]
    },
    {
     "name": "stdout",
     "output_type": "stream",
     "text": [
      "====================== Start of Level 0 ======================\n",
      "Input Dimensionality 50 at Level 0 \n",
      "3 models included in Level 0 \n",
      "Fold 1/3 , model 0 , auc===0.936141 \n",
      "Fold 1/3 , model 1 , auc===0.885430 \n",
      "Fold 1/3 , model 2 , auc===0.916928 \n",
      "=========== end of fold 1 in level 0 ===========\n",
      "Fold 2/3 , model 0 , auc===0.934705 \n",
      "Fold 2/3 , model 1 , auc===0.889733 \n",
      "Fold 2/3 , model 2 , auc===0.917682 \n",
      "=========== end of fold 2 in level 0 ===========\n",
      "Fold 3/3 , model 0 , auc===0.937759 \n",
      "Fold 3/3 , model 1 , auc===0.887843 \n",
      "Fold 3/3 , model 2 , auc===0.920002 \n",
      "=========== end of fold 3 in level 0 ===========\n",
      "Output dimensionality of level 0 is 3 \n",
      "====================== End of Level 0 ======================\n",
      " level 0 lasted 16553.498105 seconds \n",
      "====================== Start of Level 1 ======================\n",
      "Input Dimensionality 3 at Level 1 \n",
      "1 models included in Level 1 \n",
      "Fold 1/3 , model 0 , auc===0.927901 \n",
      "=========== end of fold 1 in level 1 ===========\n",
      "Fold 2/3 , model 0 , auc===0.927658 \n",
      "=========== end of fold 2 in level 1 ===========\n",
      "Fold 3/3 , model 0 , auc===0.930293 \n",
      "=========== end of fold 3 in level 1 ===========\n",
      "Output dimensionality of level 1 is 1 \n",
      "====================== End of Level 1 ======================\n",
      " level 1 lasted 218.564891 seconds \n",
      "====================== End of fit ======================\n",
      " fit() lasted 16772.116078 seconds \n"
     ]
    }
   ],
   "source": [
    "from pystacknet.pystacknet import StackNetClassifier\n",
    "\n",
    "# Specify parameters for stacked model and begin training\n",
    "model = StackNetClassifier(models, \n",
    "                           metric=\"auc\", \n",
    "                           folds=3,\n",
    "                           restacking=False,\n",
    "                           use_retraining=True,\n",
    "                           use_proba=True, # To use predict_proba after training\n",
    "                           random_state=seed,\n",
    "                           n_jobs=-1, \n",
    "                           verbose=1)\n",
    "\n",
    "# Fit the entire model tree\n",
    "model.fit(X_train, y_train)"
   ]
  },
  {
   "cell_type": "code",
   "execution_count": 15,
   "metadata": {
    "_kg_hide-input": true,
    "_kg_hide-output": true
   },
   "outputs": [
    {
     "name": "stdout",
     "output_type": "stream",
     "text": [
      "====================== Start of Level 0 ======================\n",
      "1 estimators included in Level 0 \n",
      "====================== Start of Level 1 ======================\n",
      "1 estimators included in Level 1 \n",
      "====================== Start of Level 0 ======================\n",
      "1 estimators included in Level 0 \n",
      "====================== Start of Level 1 ======================\n",
      "1 estimators included in Level 1 \n"
     ]
    }
   ],
   "source": [
    "# Get score on training set and validation set for our StackNetClassifier\n",
    "train_preds = model.predict_proba(X_train)[:, 1]\n",
    "val_preds = model.predict_proba(X_val)[:, 1]\n",
    "train_score = auc_score(y_train, train_preds)\n",
    "val_score = auc_score(y_val, val_preds)"
   ]
  },
  {
   "cell_type": "code",
   "execution_count": 16,
   "metadata": {
    "_kg_hide-input": true
   },
   "outputs": [
    {
     "name": "stdout",
     "output_type": "stream",
     "text": [
      "StackNet AUC on training set: 0.9578\n",
      "StackNet AUC on validation set: 0.9325\n"
     ]
    }
   ],
   "source": [
    "print(f\"StackNet AUC on training set: {round(train_score, 4)}\")\n",
    "print(f\"StackNet AUC on validation set: {round(val_score, 4)}\")"
   ]
  },
  {
   "cell_type": "markdown",
   "metadata": {},
   "source": [
    "## Evaluation <a id=\"5\"></a>"
   ]
  },
  {
   "cell_type": "markdown",
   "metadata": {},
   "source": [
    "The blue line signifies the baseline AUC which is 0.5. The final validation score is the area under the orange curve, which is mentioned in the plot."
   ]
  },
  {
   "cell_type": "code",
   "execution_count": 17,
   "metadata": {
    "_kg_hide-input": true
   },
   "outputs": [
    {
     "data": {
      "image/png": "[encoded data removed]",
      "text/plain": [
       "<Figure size 576x576 with 1 Axes>"
      ]
     },
     "metadata": {
      "needs_background": "light"
     },
     "output_type": "display_data"
    }
   ],
   "source": [
    "# Plot ROC curve\n",
    "plot_curve(y_train, train_preds, y_val, val_preds, \"StackNet Baseline\")"
   ]
  },
  {
   "cell_type": "markdown",
   "metadata": {},
   "source": [
    "## Submission <a id=\"6\"></a>"
   ]
  },
  {
   "cell_type": "code",
   "execution_count": 18,
   "metadata": {
    "_kg_hide-input": false,
    "_kg_hide-output": true
   },
   "outputs": [
    {
     "name": "stdout",
     "output_type": "stream",
     "text": [
      "====================== Start of Level 0 ======================\n",
      "1 estimators included in Level 0 \n",
      "====================== Start of Level 1 ======================\n",
      "1 estimators included in Level 1 \n"
     ]
    },
    {
     "name": "stderr",
     "output_type": "stream",
     "text": [
      "/opt/conda/lib/python3.6/site-packages/tensorflow/python/framework/dtypes.py:516: FutureWarning: Passing (type, 1) or '1type' as a synonym of type is deprecated; in a future version of numpy, it will be understood as (type, (1,)) / '(1,)type'.\n",
      "  _np_qint8 = np.dtype([(\"qint8\", np.int8, 1)])\n",
      "/opt/conda/lib/python3.6/site-packages/tensorflow/python/framework/dtypes.py:517: FutureWarning: Passing (type, 1) or '1type' as a synonym of type is deprecated; in a future version of numpy, it will be understood as (type, (1,)) / '(1,)type'.\n",
      "  _np_quint8 = np.dtype([(\"quint8\", np.uint8, 1)])\n",
      "/opt/conda/lib/python3.6/site-packages/tensorflow/python/framework/dtypes.py:518: FutureWarning: Passing (type, 1) or '1type' as a synonym of type is deprecated; in a future version of numpy, it will be understood as (type, (1,)) / '(1,)type'.\n",
      "  _np_qint16 = np.dtype([(\"qint16\", np.int16, 1)])\n",
      "/opt/conda/lib/python3.6/site-packages/tensorflow/python/framework/dtypes.py:519: FutureWarning: Passing (type, 1) or '1type' as a synonym of type is deprecated; in a future version of numpy, it will be understood as (type, (1,)) / '(1,)type'.\n",
      "  _np_quint16 = np.dtype([(\"quint16\", np.uint16, 1)])\n",
      "/opt/conda/lib/python3.6/site-packages/tensorflow/python/framework/dtypes.py:520: FutureWarning: Passing (type, 1) or '1type' as a synonym of type is deprecated; in a future version of numpy, it will be understood as (type, (1,)) / '(1,)type'.\n",
      "  _np_qint32 = np.dtype([(\"qint32\", np.int32, 1)])\n",
      "/opt/conda/lib/python3.6/site-packages/tensorflow/python/framework/dtypes.py:525: FutureWarning: Passing (type, 1) or '1type' as a synonym of type is deprecated; in a future version of numpy, it will be understood as (type, (1,)) / '(1,)type'.\n",
      "  np_resource = np.dtype([(\"resource\", np.ubyte, 1)])\n",
      "/opt/conda/lib/python3.6/site-packages/tensorboard/compat/tensorflow_stub/dtypes.py:541: FutureWarning: Passing (type, 1) or '1type' as a synonym of type is deprecated; in a future version of numpy, it will be understood as (type, (1,)) / '(1,)type'.\n",
      "  _np_qint8 = np.dtype([(\"qint8\", np.int8, 1)])\n",
      "/opt/conda/lib/python3.6/site-packages/tensorboard/compat/tensorflow_stub/dtypes.py:542: FutureWarning: Passing (type, 1) or '1type' as a synonym of type is deprecated; in a future version of numpy, it will be understood as (type, (1,)) / '(1,)type'.\n",
      "  _np_quint8 = np.dtype([(\"quint8\", np.uint8, 1)])\n",
      "/opt/conda/lib/python3.6/site-packages/tensorboard/compat/tensorflow_stub/dtypes.py:543: FutureWarning: Passing (type, 1) or '1type' as a synonym of type is deprecated; in a future version of numpy, it will be understood as (type, (1,)) / '(1,)type'.\n",
      "  _np_qint16 = np.dtype([(\"qint16\", np.int16, 1)])\n",
      "/opt/conda/lib/python3.6/site-packages/tensorboard/compat/tensorflow_stub/dtypes.py:544: FutureWarning: Passing (type, 1) or '1type' as a synonym of type is deprecated; in a future version of numpy, it will be understood as (type, (1,)) / '(1,)type'.\n",
      "  _np_quint16 = np.dtype([(\"quint16\", np.uint16, 1)])\n",
      "/opt/conda/lib/python3.6/site-packages/tensorboard/compat/tensorflow_stub/dtypes.py:545: FutureWarning: Passing (type, 1) or '1type' as a synonym of type is deprecated; in a future version of numpy, it will be understood as (type, (1,)) / '(1,)type'.\n",
      "  _np_qint32 = np.dtype([(\"qint32\", np.int32, 1)])\n",
      "/opt/conda/lib/python3.6/site-packages/tensorboard/compat/tensorflow_stub/dtypes.py:550: FutureWarning: Passing (type, 1) or '1type' as a synonym of type is deprecated; in a future version of numpy, it will be understood as (type, (1,)) / '(1,)type'.\n",
      "  np_resource = np.dtype([(\"resource\", np.ubyte, 1)])\n"
     ]
    }
   ],
   "source": [
    "# Write predictions to csv\n",
    "sub = pd.read_csv(f\"{KAGGLE_DIR}sample_submission.csv\")\n",
    "preds = model.predict_proba(X_test)[:, 1]\n",
    "sub[TARGET] = preds\n",
    "sub.to_csv(f\"submission.csv\", index=False)"
   ]
  },
  {
   "cell_type": "markdown",
   "metadata": {},
   "source": [
    "To check if the predictions are sound, we check the format of our submission and compare our prediction distribution with that of the target distribution in the training set."
   ]
  },
  {
   "cell_type": "code",
   "execution_count": 19,
   "metadata": {
    "_kg_hide-input": true
   },
   "outputs": [
    {
     "name": "stdout",
     "output_type": "stream",
     "text": [
      "Final Submission Format:\n"
     ]
    },
    {
     "data": {
      "text/html": [
       "<div>\n",
       "<style scoped>\n",
       "    .dataframe tbody tr th:only-of-type {\n",
       "        vertical-align: middle;\n",
       "    }\n",
       "\n",
       "    .dataframe tbody tr th {\n",
       "        vertical-align: top;\n",
       "    }\n",
       "\n",
       "    .dataframe thead th {\n",
       "        text-align: right;\n",
       "    }\n",
       "</style>\n",
       "<table border=\"1\" class=\"dataframe\">\n",
       "  <thead>\n",
       "    <tr style=\"text-align: right;\">\n",
       "      <th></th>\n",
       "      <th>TransactionID</th>\n",
       "      <th>isFraud</th>\n",
       "    </tr>\n",
       "  </thead>\n",
       "  <tbody>\n",
       "    <tr>\n",
       "      <th>0</th>\n",
       "      <td>3663549</td>\n",
       "      <td>0.034215</td>\n",
       "    </tr>\n",
       "    <tr>\n",
       "      <th>1</th>\n",
       "      <td>3663550</td>\n",
       "      <td>0.080067</td>\n",
       "    </tr>\n",
       "    <tr>\n",
       "      <th>2</th>\n",
       "      <td>3663551</td>\n",
       "      <td>0.032016</td>\n",
       "    </tr>\n",
       "    <tr>\n",
       "      <th>3</th>\n",
       "      <td>3663552</td>\n",
       "      <td>0.037355</td>\n",
       "    </tr>\n",
       "    <tr>\n",
       "      <th>4</th>\n",
       "      <td>3663553</td>\n",
       "      <td>0.028835</td>\n",
       "    </tr>\n",
       "  </tbody>\n",
       "</table>\n",
       "</div>"
      ],
      "text/plain": [
       "   TransactionID   isFraud\n",
       "0        3663549  0.034215\n",
       "1        3663550  0.080067\n",
       "2        3663551  0.032016\n",
       "3        3663552  0.037355\n",
       "4        3663553  0.028835"
      ]
     },
     "execution_count": 19,
     "metadata": {},
     "output_type": "execute_result"
    }
   ],
   "source": [
    "# Check Submission format\n",
    "print(\"Final Submission Format:\")\n",
    "sub.head()"
   ]
  },
  {
   "cell_type": "code",
   "execution_count": 20,
   "metadata": {
    "_kg_hide-input": true
   },
   "outputs": [
    {
     "data": {
      "image/png": "[encoded data removed]",
      "text/plain": [
       "<Figure size 864x288 with 1 Axes>"
      ]
     },
     "metadata": {
      "needs_background": "light"
     },
     "output_type": "display_data"
    }
   ],
   "source": [
    "plt.figure(figsize=(12,4))\n",
    "plt.hist(train_df[TARGET], bins=100)\n",
    "plt.title(\"Distribution for train set\", weight='bold', fontsize=18)\n",
    "plt.xlabel(\"Predictions\", fontsize=15)\n",
    "plt.ylabel(\"Frequency\", fontsize=15)\n",
    "plt.xlim(0, 1);"
   ]
  },
  {
   "cell_type": "code",
   "execution_count": 21,
   "metadata": {
    "_kg_hide-input": true
   },
   "outputs": [
    {
     "data": {
      "image/png": "[encoded data removed]",
      "text/plain": [
       "<Figure size 864x288 with 1 Axes>"
      ]
     },
     "metadata": {
      "needs_background": "light"
     },
     "output_type": "display_data"
    }
   ],
   "source": [
    "plt.figure(figsize=(12,4))\n",
    "plt.hist(sub[TARGET], bins=100)\n",
    "plt.title(\"Prediction Distribution for test set\", weight='bold', fontsize=18)\n",
    "plt.xlabel(\"Predictions\", fontsize=15)\n",
    "plt.ylabel(\"Frequency\", fontsize=15)\n",
    "plt.xlim(0, 1);"
   ]
  },
  {
   "cell_type": "code",
   "execution_count": 22,
   "metadata": {
    "_kg_hide-input": true
   },
   "outputs": [
    {
     "name": "stdout",
     "output_type": "stream",
     "text": [
      "Kernel runtime = 4.7049 hours (282 minutes)\n"
     ]
    }
   ],
   "source": [
    "# Check kernels run-time. Limit for Kaggle Kernels is set to approx. 9 hours.\n",
    "t_finish = time.time()\n",
    "total_time = round((t_finish-t_start) / 3600, 4)\n",
    "print('Kernel runtime = {} hours ({} minutes)'.format(total_time, \n",
    "                                                      int(total_time*60)))"
   ]
  },
  {
   "cell_type": "markdown",
   "metadata": {},
   "source": [
    "Try to experiment with [StackNet](https://github.com/h2oai/pystacknet) yourself. The possibilities are almost endless!\n",
    "\n",
    "If you want to check out another solution using PyStackNet, check out [this Kaggle kernel on the Titanic dataset by Yann Berthelot](https://www.kaggle.com/yannberthelot/pystacknet-working-implementation).\n",
    "\n",
    "**If you like this Kaggle kernel, feel free to give an upvote and leave a comment! I will try to implement your suggestions in this kernel!**"
   ]
  }
 ],
 "metadata": {
  "kernelspec": {
   "display_name": "Python 3",
   "language": "python",
   "name": "python3"
  },
  "language_info": {
   "codemirror_mode": {
    "name": "ipython",
    "version": 3
   },
   "file_extension": ".py",
   "mimetype": "text/x-python",
   "name": "python",
   "nbconvert_exporter": "python",
   "pygments_lexer": "ipython3",
   "version": "3.6.9"
  }
 },
 "nbformat": 4,
 "nbformat_minor": 1
}
