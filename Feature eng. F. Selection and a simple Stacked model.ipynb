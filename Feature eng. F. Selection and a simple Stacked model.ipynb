{
 "cells": [
  {
   "cell_type": "code",
   "execution_count": 1,
   "metadata": {
    "_cell_guid": "b1076dfc-b9ad-4769-8c92-a6c4dae69d19",
    "_uuid": "8f2839f25d086af736a60e9eeb907d3b93b6e0e5"
   },
   "outputs": [
    {
     "data": {
      "text/plain": [
       "\" For Kaggle Kernels\\nimport os\\nfor dirname, _, filenames in os.walk('/kaggle/input'):\\n    for filename in filenames:\\n        print(os.path.join(dirname, filename))\\n        if filename==train_file:\\n            train_dir=dirname\\n        if filename==test_file:\\n            test_dir=dirname\\n\""
      ]
     },
     "execution_count": 1,
     "metadata": {},
     "output_type": "execute_result"
    }
   ],
   "source": [
    "# This Python 3 environment comes with many helpful analytics libraries installed\n",
    "# It is defined by the kaggle/python docker image: https://github.com/kaggle/docker-python\n",
    "# For example, here's several helpful packages to load in \n",
    "\n",
    "import numpy as np # linear algebra\n",
    "import pandas as pd # data processing, CSV file I/O (e.g. pd.read_csv)\n",
    "import matplotlib.pyplot as plt\n",
    "import os\n",
    "import gc\n",
    "import seaborn as sns\n",
    "\n",
    "from sklearn.model_selection import train_test_split\n",
    "\n",
    "from sklearn.metrics import accuracy_score\n",
    "from sklearn.metrics import confusion_matrix\n",
    "from sklearn.model_selection import cross_val_predict, cross_val_score\n",
    "\n",
    "from sklearn.model_selection import GridSearchCV\n",
    "\n",
    "from sklearn.linear_model import LogisticRegression\n",
    "from sklearn.ensemble import RandomForestClassifier\n",
    "from sklearn.tree import DecisionTreeClassifier\n",
    "from sklearn.ensemble import AdaBoostClassifier\n",
    "from sklearn.ensemble import GradientBoostingClassifier\n",
    "from sklearn.ensemble import ExtraTreesClassifier\n",
    "from sklearn.ensemble import BaggingClassifier\n",
    "from sklearn.neighbors import KNeighborsClassifier\n",
    "\n",
    "from sklearn.experimental import enable_hist_gradient_boosting\n",
    "from sklearn.ensemble import HistGradientBoostingClassifier\n",
    "from lightgbm import LGBMClassifier, plot_importance\n",
    "from xgboost import XGBClassifier\n",
    "\n",
    "import warnings\n",
    "warnings.simplefilter(action='ignore', category=FutureWarning)\n",
    "\n",
    "# Input data files are available in the \"../input/\" directory.\n",
    "# For example, running this (by clicking run or pressing Shift+Enter) will list all files under the input directory\n",
    "already_preprocessed=False\n",
    "train_file='train.csv'\n",
    "test_file='test.csv'\n",
    "\n",
    "\"\"\" For Kaggle Kernels\n",
    "import os\n",
    "for dirname, _, filenames in os.walk('/kaggle/input'):\n",
    "    for filename in filenames:\n",
    "        print(os.path.join(dirname, filename))\n",
    "        if filename==train_file:\n",
    "            train_dir=dirname\n",
    "        if filename==test_file:\n",
    "            test_dir=dirname\n",
    "\"\"\"        \n",
    "# Any results you write to the current directory are saved as output."
   ]
  },
  {
   "cell_type": "markdown",
   "metadata": {
    "_cell_guid": "79c7e3d0-c299-4dcb-8224-4455121ee9b0",
    "_uuid": "d629ff2d2480ee46fbb7e2d37f6b5fab8052498a",
    "collapsed": true
   },
   "source": [
    "## Loading the train and test datasets\n"
   ]
  },
  {
   "cell_type": "code",
   "execution_count": 2,
   "metadata": {},
   "outputs": [],
   "source": [
    "#root folder\n",
    "root_folder='..\\..'\n",
    "#data_folder='.'\n",
    "data_folder_name='Datasets/RooseveltForest'\n",
    "\n",
    "# Variable for data directory\n",
    "DATA_PATH = os.path.abspath(os.path.join(root_folder, data_folder_name))\n",
    "\n",
    "# Both train and test set are in the root data directory\n",
    "train_dir = DATA_PATH\n",
    "test_dir = DATA_PATH"
   ]
  },
  {
   "cell_type": "code",
   "execution_count": 3,
   "metadata": {},
   "outputs": [
    {
     "name": "stdout",
     "output_type": "stream",
     "text": [
      "(565892, 54) (15120, 54)\n"
     ]
    }
   ],
   "source": [
    "# Reading the csv file with the whole dataset\n",
    "data = pd.read_csv(train_dir+'/'+train_file, sep=',', header=0, index_col=0)\n",
    "# Train data, erasing label column\n",
    "X_train = data.drop('Cover_Type', axis=1)\n",
    "y_train = data['Cover_Type']\n",
    "# Read the test data\n",
    "test = pd.read_csv(test_dir+'/'+test_file, sep=',', header=0, index_col=0)\n",
    "\n",
    "n_train=len(X_train)\n",
    "print(test.shape,X_train.shape)"
   ]
  },
  {
   "cell_type": "markdown",
   "metadata": {},
   "source": [
    "## Feature engineering"
   ]
  },
  {
   "cell_type": "markdown",
   "metadata": {},
   "source": [
    "Some kernels extract some new information, or new features, from the test data and then include that new information to the training dataset. A simple and effective aproach is to create a Gaussian Mixture model as is described for example in:\n",
    "https://www.kaggle.com/stevegreenau/stacking-multiple-classifiers-clustering or in https://www.kaggle.com/arateris/2-layer-k-fold-learning-forest-cover\n",
    "\n",
    "Lets include this new features:"
   ]
  },
  {
   "cell_type": "code",
   "execution_count": 4,
   "metadata": {},
   "outputs": [],
   "source": [
    "from sklearn.preprocessing import StandardScaler\n",
    "all_data=X_train.append(test)\n",
    "\n",
    "scaler = StandardScaler().fit(all_data)\n",
    "test_scaled = scaler.transform(test)\n",
    "X_train_scaled = scaler.transform(X_train)"
   ]
  },
  {
   "cell_type": "code",
   "execution_count": 5,
   "metadata": {},
   "outputs": [],
   "source": [
    "from sklearn.mixture import GaussianMixture\n",
    "# Num clusters o components? 7 the same as \n",
    "# Standarscaler for test data?\n",
    "\n",
    "gmix = GaussianMixture(n_components=10,random_state=0)\n",
    "gmix.fit(test_scaled)\n",
    "\n",
    "x_train_gmix = gmix.predict(X_train_scaled)\n",
    "test_gmix = gmix.predict(test_scaled)"
   ]
  },
  {
   "cell_type": "code",
   "execution_count": 6,
   "metadata": {},
   "outputs": [
    {
     "name": "stdout",
     "output_type": "stream",
     "text": [
      "(565892, 64) (15120, 64)\n"
     ]
    }
   ],
   "source": [
    "#X_train = np.hstack((X_train, np.reshape(x_train_gmix,(x_train_gmix.shape[0],1))))\n",
    "#test = np.hstack((test, np.reshape(test_gmix,(test_gmix.shape[0],1))))\n",
    "X_train['Cluster_Test']=x_train_gmix\n",
    "test['Cluster_Test']=test_gmix\n",
    "\n",
    "#Convert to categorical (binaries columns)\n",
    "X_train = pd.get_dummies(X_train,columns = ['Cluster_Test'])\n",
    "test = pd.get_dummies(test,columns = ['Cluster_Test'])\n",
    "\n",
    "print(test.shape,X_train.shape)"
   ]
  },
  {
   "cell_type": "code",
   "execution_count": 7,
   "metadata": {},
   "outputs": [
    {
     "name": "stdout",
     "output_type": "stream",
     "text": [
      "PCA components dimension:  (581012, 4)\n",
      "(565892, 68) (15120, 68)\n"
     ]
    }
   ],
   "source": [
    "#Apply PCA to obtain new features based in all datasets (train and test)\n",
    "from sklearn.decomposition import PCA\n",
    "\n",
    "def add_PCA_features(X):\n",
    "    pca = PCA(n_components=0.99, random_state=0).fit(X)\n",
    "    X_pca = pca.transform(X)\n",
    "    \n",
    "    return X_pca\n",
    "\n",
    "components = add_PCA_features(all_data)\n",
    "\n",
    "print('PCA components dimension: ',components.shape)\n",
    "\n",
    "for i in range(components.shape[1]):\n",
    "    col_name= 'pca'+str(i+1)\n",
    "    X_train[col_name] = components[:n_train, i]\n",
    "    test[col_name] = components[n_train:, i]\n",
    "\n",
    "print(test.shape,X_train.shape)"
   ]
  },
  {
   "cell_type": "markdown",
   "metadata": {},
   "source": [
    "## Oversampling the data\n",
    "We will apply some oversampling on the training data, trying to solve the results of confussion matrix. There are many classifications errors in samples of cover type 1 and 2, so we want to train the model with more examples of these cover types.\n",
    "\n",
    "Many ideas and tricks extracted from a great kernell: https://www.kaggle.com/phsheth/forestml-part-6-stacking-selfets-gmix-smote by https://www.kaggle.com/phsheth"
   ]
  },
  {
   "cell_type": "code",
   "execution_count": 8,
   "metadata": {},
   "outputs": [
    {
     "name": "stderr",
     "output_type": "stream",
     "text": [
      "Using TensorFlow backend.\n",
      "C:\\Users\\edumu\\Anaconda3\\lib\\site-packages\\imblearn\\utils\\_validation.py:253: UserWarning: After over-sampling, the number of samples (8000) in class 1 will be larger than the number of samples in the majority class (class #1 -> 2160)\n",
      "  n_samples_majority))\n",
      "C:\\Users\\edumu\\Anaconda3\\lib\\site-packages\\imblearn\\utils\\_validation.py:253: UserWarning: After over-sampling, the number of samples (8000) in class 2 will be larger than the number of samples in the majority class (class #1 -> 2160)\n",
      "  n_samples_majority))\n",
      "C:\\Users\\edumu\\Anaconda3\\lib\\site-packages\\imblearn\\utils\\_validation.py:253: UserWarning: After over-sampling, the number of samples (3000) in class 3 will be larger than the number of samples in the majority class (class #1 -> 2160)\n",
      "  n_samples_majority))\n",
      "C:\\Users\\edumu\\Anaconda3\\lib\\site-packages\\imblearn\\utils\\_validation.py:253: UserWarning: After over-sampling, the number of samples (3000) in class 4 will be larger than the number of samples in the majority class (class #1 -> 2160)\n",
      "  n_samples_majority))\n",
      "C:\\Users\\edumu\\Anaconda3\\lib\\site-packages\\imblearn\\utils\\_validation.py:253: UserWarning: After over-sampling, the number of samples (3000) in class 5 will be larger than the number of samples in the majority class (class #1 -> 2160)\n",
      "  n_samples_majority))\n",
      "C:\\Users\\edumu\\Anaconda3\\lib\\site-packages\\imblearn\\utils\\_validation.py:253: UserWarning: After over-sampling, the number of samples (3000) in class 6 will be larger than the number of samples in the majority class (class #1 -> 2160)\n",
      "  n_samples_majority))\n",
      "C:\\Users\\edumu\\Anaconda3\\lib\\site-packages\\imblearn\\utils\\_validation.py:253: UserWarning: After over-sampling, the number of samples (3000) in class 7 will be larger than the number of samples in the majority class (class #1 -> 2160)\n",
      "  n_samples_majority))\n"
     ]
    }
   ],
   "source": [
    "# this step does not improve the results\n",
    "from imblearn.over_sampling import SMOTE\n",
    "\n",
    "sm = SMOTE(sampling_strategy = {1:8000, 2:8000, 3:3000, 4:3000, 5:3000, 6:3000, 7:3000}, random_state=0)\n",
    "\n",
    "X_sm, y_sm = sm.fit_sample(X_train, y_train.ravel())"
   ]
  },
  {
   "cell_type": "code",
   "execution_count": 9,
   "metadata": {},
   "outputs": [
    {
     "name": "stdout",
     "output_type": "stream",
     "text": [
      "After OverSampling, the shape of train_X: (31000, 55)\n",
      "After OverSampling, the shape of train_y: (31000,)\n",
      "After OverSampling, counts of label '1': 8000\n",
      "After OverSampling, counts of label '2': 8000\n",
      "After OverSampling, counts of label '3': 3000\n",
      "After OverSampling, counts of label '4': 3000\n",
      "After OverSampling, counts of label '5': 3000\n",
      "After OverSampling, counts of label '6': 3000\n",
      "After OverSampling, counts of label '7': 3000\n"
     ]
    }
   ],
   "source": [
    "print('After OverSampling, the shape of train_X: {}'.format(X_sm.shape))\n",
    "print('After OverSampling, the shape of train_y: {}'.format(y_sm.shape))\n",
    "\n",
    "print(\"After OverSampling, counts of label '1': {}\".format(sum(y_sm==1)))\n",
    "print(\"After OverSampling, counts of label '2': {}\".format(sum(y_sm==2)))\n",
    "print(\"After OverSampling, counts of label '3': {}\".format(sum(y_sm==3)))\n",
    "print(\"After OverSampling, counts of label '4': {}\".format(sum(y_sm==4)))\n",
    "print(\"After OverSampling, counts of label '5': {}\".format(sum(y_sm==5)))\n",
    "print(\"After OverSampling, counts of label '6': {}\".format(sum(y_sm==6)))\n",
    "print(\"After OverSampling, counts of label '7': {}\".format(sum(y_sm==7)))"
   ]
  },
  {
   "cell_type": "markdown",
   "metadata": {},
   "source": [
    "Now we can replace the original training dataset with the new one oversampled"
   ]
  },
  {
   "cell_type": "code",
   "execution_count": 10,
   "metadata": {},
   "outputs": [],
   "source": [
    "X_train=pd.DataFrame(data=X_sm, columns=X_train.columns)\n",
    "X_train.index.name='Id'"
   ]
  },
  {
   "cell_type": "code",
   "execution_count": 11,
   "metadata": {},
   "outputs": [
    {
     "data": {
      "text/plain": [
       "Id\n",
       "0        5\n",
       "1        5\n",
       "2        2\n",
       "3        2\n",
       "4        5\n",
       "        ..\n",
       "30995    7\n",
       "30996    7\n",
       "30997    7\n",
       "30998    7\n",
       "30999    7\n",
       "Name: Cover_Type, Length: 31000, dtype: int64"
      ]
     },
     "execution_count": 11,
     "metadata": {},
     "output_type": "execute_result"
    }
   ],
   "source": [
    "y_train=pd.Series(y_sm)\n",
    "y_train.index.name='Id'\n",
    "y_train.name='Cover_Type'\n",
    "y_train"
   ]
  },
  {
   "cell_type": "markdown",
   "metadata": {},
   "source": [
    "## Feature Selection\n",
    "In this kernell we are goint to generate a group of features that many others competitors have worked on and looks loke they can produce a grat result. Thanks to kwabenantim, most of the feature engineering and selection in this kernells have been extracted from his excellent kernell https://www.kaggle.com/kwabenantim/forest-cover-stacking-multiple-classifiers. I stringllly recomend to read carefully and study it, not all the steps in that kernell are included in this one. This one is simpler and very easy to understand.\n"
   ]
  },
  {
   "cell_type": "code",
   "execution_count": 8,
   "metadata": {},
   "outputs": [],
   "source": [
    "# Plot the feature importance determined by the classifier clf\n",
    "def feature_importances(clf, X, y):\n",
    "    clf = clf.fit(X, y)\n",
    "    \n",
    "    importances = pd.DataFrame({'Features': X.columns, \n",
    "                                'Importances': clf.feature_importances_})\n",
    "    \n",
    "    importances.sort_values(by=['Importances'], axis='index', ascending=False, inplace=True)\n",
    "\n",
    "    fig = plt.figure(figsize=(14, 4))\n",
    "    sns.barplot(x='Features', y='Importances', data=importances)\n",
    "    plt.xticks(rotation='vertical')\n",
    "    plt.show()\n",
    "    \n",
    "# Calculate the accuracy using a cross validated approach \n",
    "def cv_accuracy(clf, X, y):\n",
    "    scores = cross_val_score(clf, X, y, \n",
    "                             cv=5, \n",
    "                             scoring='accuracy',\n",
    "                             verbose=0, \n",
    "                             n_jobs=-1)\n",
    "    \n",
    "    print('Cross-validation accuracy: {:.3f} {}'.format(np.mean(scores),  \n",
    "                                                        np.around(scores, 3)))\n",
    "\n",
    "# Shows the confusion matrix using criss validated predictions\n",
    "def cv_confusion(clf, X, y):\n",
    "    prediction = cross_val_predict(clf, X, y, \n",
    "                                   cv=5, \n",
    "                                   verbose=0, \n",
    "                                   n_jobs=-1)\n",
    "    \n",
    "    classes = sorted(y.unique().tolist())\n",
    "\n",
    "    conf_mat = confusion_matrix(y, prediction)\n",
    "    norm_conf_mat = np.around(conf_mat / conf_mat.sum(axis=1), 2)\n",
    "\n",
    "    fig = plt.figure(figsize=(14, 8))\n",
    "\n",
    "    fig.add_subplot(1, 2, 1)\n",
    "    ax = sns.heatmap(norm_conf_mat, annot=True, cmap='OrRd', \n",
    "                     xticklabels=classes, yticklabels=classes)\n",
    "    ax.set(xlabel='Predicted Class', ylabel='True Class', title='Normalized')\n",
    "\n",
    "\n",
    "    fig.add_subplot(1, 2, 2)\n",
    "    ax = sns.heatmap(conf_mat, annot=True, fmt='d', cmap='OrRd', \n",
    "                     xticklabels=classes, yticklabels=classes)\n",
    "    ax.set(xlabel='Predicted Class', ylabel='True Class', title ='Counts')\n",
    "\n",
    "    #plt.tight_layout()\n",
    "    plt.show()\n",
    "    \n",
    "# Plot correlations between numerical features\n",
    "def plot_correlations(X, annot=False):\n",
    "    numericals = [col for col in X.columns if \n",
    "                  'Soil_Type' not in col and \n",
    "                  'Wilderness_Area' not in col]\n",
    "\n",
    "    numericals = sorted(numericals)\n",
    "\n",
    "    # Place correlations in four bins\n",
    "    corr = np.around(X[numericals].corr().abs(), 1)\n",
    "    \n",
    "    corr_bin = corr.copy()\n",
    "    corr_bin = corr_bin.where(corr_bin > 0.30, 0.30)\n",
    "\n",
    "    corr_bin = corr_bin.where((corr_bin <= 0.30) | \n",
    "                              (corr_bin > 0.50), 0.50)\n",
    "\n",
    "    corr_bin = corr_bin.where((corr_bin <= 0.50) | \n",
    "                              (corr_bin > 0.70), 0.70)\n",
    "\n",
    "    corr_bin = corr_bin.where(corr_bin <= 0.70, 1.0)\n",
    "    \n",
    "    if annot:\n",
    "        annot = corr\n",
    "        \n",
    "    # Show binned correlation plot\n",
    "    fig = plt.figure(figsize=(12, 12))\n",
    "    sns.heatmap(corr_bin, annot=annot, linewidths=1, square=True, \n",
    "                cmap='BuPu', cbar_kws={'shrink':0.5})\n",
    "    plt.title('Feature Correlations')\n",
    "    plt.show()\n",
    "\n",
    "# Drop features with mode frequency > 99% of data\n",
    "# Those columns are irrelevant, they have almost just one value \n",
    "def drop_unimportant(X_):\n",
    "    X = X_.copy()\n",
    "    \n",
    "    n_rows = X.shape[0]\n",
    "    hi_freq_cols = []\n",
    "    \n",
    "    for col in X.columns:\n",
    "        mode_frequency = 100.0 * X[col].value_counts().iat[0] / n_rows \n",
    "        \n",
    "        if mode_frequency > 99.0:\n",
    "            hi_freq_cols.append(col)\n",
    "            \n",
    "    X = X.drop(hi_freq_cols, axis='columns')\n",
    "    \n",
    "    return hi_freq_cols,X\n",
    "\n",
    "def drop_correlated(X_):\n",
    "    X = X_.copy()\n",
    "    \n",
    "    drop_cols = ['Hillshade_mean', 'Hillshade_median', 'Hillshade_max', \n",
    "                 'Hillshade_min', 'Hillshade_sum', 'Hydro_Elevation_sum',\n",
    "                 'Hydro_Distance_sum', 'Hydro_Distance_diff', 'Hydro_Fire_mean', \n",
    "                 'Hydro_Fire_median', 'Hydro_Manhattan', 'Hydro_Road_Fire_mean', \n",
    "                 'Hydro_Road_Fire_median', 'Hydro_Road_mean', 'Hydro_Road_median', \n",
    "                 'Road_Fire_mean', 'Road_Fire_median']\n",
    "    \n",
    "    drop_cols = [col for col in drop_cols if col in X.columns]\n",
    "    \n",
    "    X = X.drop(drop_cols, axis='columns')\n",
    "    \n",
    "    return drop_cols,X\n"
   ]
  },
  {
   "cell_type": "markdown",
   "metadata": {},
   "source": [
    "Other utility functions"
   ]
  },
  {
   "cell_type": "code",
   "execution_count": null,
   "metadata": {},
   "outputs": [],
   "source": [
    "#transform binary columns of a categorical variable to an only one categorical column\n",
    "def categorify(df, col_string_search, remove_original=False):\n",
    "    cols = df.columns\n",
    "    for key_str in col_string_search:\n",
    "        new_col_name = key_str+'_cat'\n",
    "        df[new_col_name]=0\n",
    "        for col in cols:\n",
    "            if ~str(col).find(key_str):\n",
    "                binary_feat.append(col)\n",
    "                df[new_col_name]= df[new_col_name]+int(str(col).lstrip(key_str))*df[col]\n",
    "                if remove_original:\n",
    "                    df.drop(col, axis=1, inplace=True)\n",
    "        categorial_feat.append(new_col_name)\n",
    "#         df[new_col_name] = df[new_col_name].astype('category')\n",
    "        \n",
    "#keeping track of the categorial features\n",
    "    return df"
   ]
  },
  {
   "cell_type": "markdown",
   "metadata": {},
   "source": [
    "We will use a simple RandomForest classifier to analyze the features, it will be the performance baseline "
   ]
  },
  {
   "cell_type": "code",
   "execution_count": 9,
   "metadata": {},
   "outputs": [],
   "source": [
    "#This classifier is used to evaluate the performance of the features in diferent scenarios: importance, correlation and so.\n",
    "clf = RandomForestClassifier(n_estimators=125,\n",
    "                             min_samples_leaf=1,\n",
    "                             max_depth=None,\n",
    "                             verbose=0,\n",
    "                             random_state=0)"
   ]
  },
  {
   "cell_type": "code",
   "execution_count": 33,
   "metadata": {},
   "outputs": [
    {
     "data": {
      "image/png": "[encoded data removed]",
      "text/plain": [
       "<Figure size 1008x288 with 1 Axes>"
      ]
     },
     "metadata": {
      "needs_background": "light"
     },
     "output_type": "display_data"
    },
    {
     "name": "stdout",
     "output_type": "stream",
     "text": [
      "Cross-validation accuracy: 0.800 [0.773 0.764 0.793 0.808 0.864]\n"
     ]
    },
    {
     "data": {
      "image/png": "[encoded data removed]",
      "text/plain": [
       "<Figure size 1008x576 with 4 Axes>"
      ]
     },
     "metadata": {
      "needs_background": "light"
     },
     "output_type": "display_data"
    }
   ],
   "source": [
    "feature_importances(clf, X_train, y_train)\n",
    "cv_accuracy(clf, X_train, y_train)\n",
    "cv_confusion(clf, X_train, y_train)"
   ]
  },
  {
   "cell_type": "code",
   "execution_count": 10,
   "metadata": {},
   "outputs": [],
   "source": [
    "# This new features has been extracted from the kernel previously citated:\n",
    "# https://www.kaggle.com/kwabenantim/forest-cover-stacking-multiple-classifiers\n",
    "\n",
    "def add_features(X_):\n",
    "    X = X_.copy()\n",
    "    \n",
    "    X['Hydro_Elevation_sum'] = X[['Elevation',\n",
    "                                  'Vertical_Distance_To_Hydrology']\n",
    "                                 ].sum(axis='columns')\n",
    "    \n",
    "    X['Hydro_Elevation_diff'] = X[['Elevation',\n",
    "                                   'Vertical_Distance_To_Hydrology']\n",
    "                                  ].diff(axis='columns').iloc[:, [1]]\n",
    "\n",
    "    X['Hydro_Euclidean'] = np.sqrt(X['Horizontal_Distance_To_Hydrology']**2 +\n",
    "                                   X['Vertical_Distance_To_Hydrology']**2)\n",
    "\n",
    "    X['Hydro_Manhattan'] = (X['Horizontal_Distance_To_Hydrology'] +\n",
    "                            X['Vertical_Distance_To_Hydrology'].abs())\n",
    "    \n",
    "    \n",
    "    X['Hydro_Distance_sum'] = X[['Horizontal_Distance_To_Hydrology',\n",
    "                                 'Vertical_Distance_To_Hydrology']\n",
    "                                ].sum(axis='columns')\n",
    "\n",
    "    X['Hydro_Distance_diff'] = X[['Horizontal_Distance_To_Hydrology',\n",
    "                                  'Vertical_Distance_To_Hydrology']\n",
    "                                 ].diff(axis='columns').iloc[:, [1]]\n",
    "    \n",
    "    X['Hydro_Fire_sum'] = X[['Horizontal_Distance_To_Hydrology',\n",
    "                             'Horizontal_Distance_To_Fire_Points']\n",
    "                            ].sum(axis='columns')\n",
    "\n",
    "    X['Hydro_Fire_diff'] = X[['Horizontal_Distance_To_Hydrology',\n",
    "                              'Horizontal_Distance_To_Fire_Points']\n",
    "                             ].diff(axis='columns').iloc[:, [1]].abs()\n",
    "\n",
    "    X['Hydro_Fire_mean'] = X[['Horizontal_Distance_To_Hydrology',\n",
    "                              'Horizontal_Distance_To_Fire_Points']\n",
    "                             ].mean(axis='columns')\n",
    "\n",
    "    X['Hydro_Fire_median'] = X[['Horizontal_Distance_To_Hydrology',\n",
    "                                'Horizontal_Distance_To_Fire_Points']\n",
    "                               ].median(axis='columns')\n",
    "                               \n",
    "    X['Hydro_Road_sum'] = X[['Horizontal_Distance_To_Hydrology',\n",
    "                             'Horizontal_Distance_To_Roadways']\n",
    "                            ].sum(axis='columns')\n",
    "\n",
    "    X['Hydro_Road_diff'] = X[['Horizontal_Distance_To_Hydrology',\n",
    "                              'Horizontal_Distance_To_Roadways']\n",
    "                             ].diff(axis='columns').iloc[:, [1]].abs()\n",
    "\n",
    "    X['Hydro_Road_mean'] = X[['Horizontal_Distance_To_Hydrology',\n",
    "                              'Horizontal_Distance_To_Roadways']\n",
    "                             ].mean(axis='columns')\n",
    "\n",
    "    X['Hydro_Road_median'] = X[['Horizontal_Distance_To_Hydrology',\n",
    "                                'Horizontal_Distance_To_Roadways']\n",
    "                               ].median(axis='columns')\n",
    "    \n",
    "    X['Road_Fire_sum'] = X[['Horizontal_Distance_To_Roadways',\n",
    "                            'Horizontal_Distance_To_Fire_Points']\n",
    "                           ].sum(axis='columns')\n",
    "\n",
    "    X['Road_Fire_diff'] = X[['Horizontal_Distance_To_Roadways',\n",
    "                             'Horizontal_Distance_To_Fire_Points']\n",
    "                            ].diff(axis='columns').iloc[:, [1]].abs()\n",
    "\n",
    "    X['Road_Fire_mean'] = X[['Horizontal_Distance_To_Roadways',\n",
    "                             'Horizontal_Distance_To_Fire_Points']\n",
    "                            ].mean(axis='columns')\n",
    "\n",
    "    X['Road_Fire_median'] = X[['Horizontal_Distance_To_Roadways',\n",
    "                               'Horizontal_Distance_To_Fire_Points']\n",
    "                              ].median(axis='columns')\n",
    "    \n",
    "    X['Hydro_Road_Fire_mean'] = X[['Horizontal_Distance_To_Hydrology',\n",
    "                                   'Horizontal_Distance_To_Roadways',\n",
    "                                   'Horizontal_Distance_To_Fire_Points']\n",
    "                                  ].mean(axis='columns')\n",
    "\n",
    "    X['Hydro_Road_Fire_median'] = X[['Horizontal_Distance_To_Hydrology',\n",
    "                                     'Horizontal_Distance_To_Roadways',\n",
    "                                     'Horizontal_Distance_To_Fire_Points']\n",
    "                                    ].median(axis='columns')\n",
    "\n",
    "    X['Hillshade_sum'] = X[['Hillshade_9am',\n",
    "                            'Hillshade_Noon',\n",
    "                            'Hillshade_3pm']\n",
    "                           ].sum(axis='columns')\n",
    "\n",
    "    X['Hillshade_mean'] = X[['Hillshade_9am',\n",
    "                             'Hillshade_Noon',\n",
    "                             'Hillshade_3pm']\n",
    "                            ].mean(axis='columns')\n",
    "\n",
    "    X['Hillshade_median'] = X[['Hillshade_9am',\n",
    "                               'Hillshade_Noon',\n",
    "                               'Hillshade_3pm']\n",
    "                              ].median(axis='columns')\n",
    "\n",
    "    X['Hillshade_min'] = X[['Hillshade_9am',\n",
    "                            'Hillshade_Noon',\n",
    "                            'Hillshade_3pm']\n",
    "                           ].min(axis='columns')\n",
    "\n",
    "    X['Hillshade_max'] = X[['Hillshade_9am',\n",
    "                            'Hillshade_Noon',\n",
    "                            'Hillshade_3pm']\n",
    "                           ].max(axis='columns')\n",
    "    #HILLSHADE STANDARD DEV\n",
    "    #Hillshade sum,diff in grouops of 2 values\n",
    "    #MISSING VALUES HILLSHADE3AM\n",
    "    #\n",
    "    \n",
    "    # Compute Soil_Type number from Soil_Type binary columns\n",
    "    X['Stoneyness'] = sum(i * X['Soil_Type{}'.format(i)] for i in range(1, 41))\n",
    "    \n",
    "    # For all 40 Soil_Types, 1=rubbly, 2=stony, 3=very stony, 4=extremely stony, 0=?\n",
    "    stoneyness = [4, 3, 1, 1, 1, 2, 0, 0, 3, 1, \n",
    "                  1, 2, 1, 0, 0, 0, 0, 3, 0, 0, \n",
    "                  0, 4, 0, 4, 4, 3, 4, 4, 4, 4, \n",
    "                  4, 4, 4, 4, 1, 4, 4, 4, 4, 4]\n",
    "    \n",
    "    # Replace Soil_Type number with \"stoneyness\" value\n",
    "    X['Stoneyness'] = X['Stoneyness'].replace(range(1, 41), stoneyness)\n",
    "    \n",
    "    #Drop Soil_types and categorize Stoneyness\n",
    "    return X"
   ]
  },
  {
   "cell_type": "code",
   "execution_count": 44,
   "metadata": {},
   "outputs": [],
   "source": [
    "#Aspect\n",
    "def transform_Aspect(X_):\n",
    "    X = X_.copy()\n",
    "    \n",
    "    X['Aspect'] = X['Aspect'].astype(int) % 360\n",
    "    \n",
    "    #aspect_names = ['N', 'NE', 'E', 'SE', 'S', 'SW', 'W', 'NW', 'N']\n",
    "    #degree = np.array([22.5, 67.5, 112.5, 157.5, 202.5, 247.5, 292.5, 337.5, 360])\n",
    "    \n",
    "    #def get_aspect_name(aspect):\n",
    "    #    d = degree - aspect\n",
    "    #    indx = np.where(d > 0, d, np.inf).argmin()\n",
    "    #    return aspect_names[indx]\n",
    "\n",
    "    #X['Aspect_Name'] = X['Aspect'].apply(get_aspect_name).astype('category')\n",
    "    #X['Aspect_Name'].cat.set_categories(aspect_names[:-1])\n",
    "    \n",
    "    X['Sin_Aspect'] = np.sin(np.radians(X['Aspect'])) # not important feature at all\n",
    "    X['Cos_Aspect'] = np.cos(np.radians(X['Aspect']))\n",
    "\n",
    "    X['Slope_hyd'] = np.arctan(X['Vertical_Distance_To_Hydrology']/(X['Horizontal_Distance_To_Hydrology']+0.001))\n",
    "    X.Slope_hyd=X.Slope_hyd.map(lambda x: 0 if np.isinf(x) else x) # remove infinite value if any\n",
    "    \n",
    "    X['Sin_Slope_hyd'] = np.sin(np.radians(X['Slope_hyd']))\n",
    "    X['Cos_Slope_hyd'] = np.cos(np.radians(X['Slope_hyd']))\n",
    "\n",
    "    X['Sin_Slope'] = np.sin(np.radians(X['Slope']))\n",
    "    X['Cos_Slope'] = np.cos(np.radians(X['Slope']))\n",
    "    \n",
    "   \n",
    "    return X\n",
    "\n",
    "#train['Slope2'] = np.sqrt(train.Horizontal_Distance_To_Hydrology**2 + train.Vertical_Distance_To_Hydrology**2)\n",
    "#test['Slope2'] = np.sqrt(test.Horizontal_Distance_To_Hydrology**2 + test.Vertical_Distance_To_Hydrology**2)\n"
   ]
  },
  {
   "cell_type": "markdown",
   "metadata": {},
   "source": [
    "We will repeat the previous analyze with our new dataset, containing the new features"
   ]
  },
  {
   "cell_type": "code",
   "execution_count": 11,
   "metadata": {
    "scrolled": false
   },
   "outputs": [
    {
     "name": "stdout",
     "output_type": "stream",
     "text": [
      "(565892, 94) (15120, 94)\n"
     ]
    }
   ],
   "source": [
    "# Add the new features to the dataset\n",
    "X_train = add_features(X_train)\n",
    "test = add_features(test)\n",
    "\n",
    "print(test.shape,X_train.shape)\n",
    "\n",
    "#feature_importances(clf, X_train, y_train)\n",
    "#cv_accuracy(clf, X_train, y_train)\n",
    "#cv_confusion(clf, X_train, y_train)"
   ]
  },
  {
   "cell_type": "code",
   "execution_count": 17,
   "metadata": {},
   "outputs": [
    {
     "name": "stdout",
     "output_type": "stream",
     "text": [
      "(565892, 98) (15120, 98)\n"
     ]
    }
   ],
   "source": [
    "#Convert to categorical (binaries columns)\n",
    "#X_train = pd.get_dummies(X_train,columns = ['Stoneyness'])\n",
    "#test = pd.get_dummies(test,columns = ['Stoneyness'])\n",
    "\n",
    "print(test.shape,X_train.shape)"
   ]
  },
  {
   "cell_type": "code",
   "execution_count": 18,
   "metadata": {},
   "outputs": [
    {
     "name": "stdout",
     "output_type": "stream",
     "text": [
      "(565892, 98) (15120, 98)\n"
     ]
    }
   ],
   "source": [
    "# Add the new features to the dataset\n",
    "# These new features based on Aspect and Slope does not improve accuracy\n",
    "#X_train = transform_Aspect(X_train)\n",
    "#test = transform_Aspect(test)\n",
    "\n",
    "print(test.shape,X_train.shape)\n",
    "\n",
    "#feature_importances(clf, X_train, y_train)\n",
    "#cv_accuracy(clf, X_train, y_train)\n",
    "#cv_confusion(clf, X_train, y_train)"
   ]
  },
  {
   "cell_type": "code",
   "execution_count": 15,
   "metadata": {},
   "outputs": [
    {
     "data": {
      "text/plain": [
       "4    6546\n",
       "1    5096\n",
       "0    1854\n",
       "2     877\n",
       "3     747\n",
       "Name: Stoneyness, dtype: int64"
      ]
     },
     "execution_count": 15,
     "metadata": {},
     "output_type": "execute_result"
    }
   ],
   "source": [
    "X_train.Stoneyness.value_counts()"
   ]
  },
  {
   "cell_type": "markdown",
   "metadata": {},
   "source": [
    "#Convert to categorical\n",
    "X_train = pd.get_dummies(X_train,columns = ['Aspect_Name'])\n",
    "test = pd.get_dummies(test,columns = ['Aspect_Name'])\n",
    "\n",
    "X_train.drop('Aspect',axis=1,inplace=True)\n",
    "test.drop('Aspect',axis=1,inplace=True)\n",
    "\n",
    "print(test.shape,X_train.shape)"
   ]
  },
  {
   "cell_type": "markdown",
   "metadata": {},
   "source": [
    "Finally we will drop unimportant features, those containing just a few values. Mode frequency > 99% of data. And the last step will be to drop those correlated features."
   ]
  },
  {
   "cell_type": "code",
   "execution_count": 19,
   "metadata": {},
   "outputs": [
    {
     "name": "stdout",
     "output_type": "stream",
     "text": [
      "Cross-validation accuracy: 0.807 [0.78  0.783 0.792 0.814 0.867]\n",
      "(565892, 81) (15120, 81)\n"
     ]
    }
   ],
   "source": [
    "# Drop umportant columns from train data\n",
    "unimportant_cols,X_train = drop_unimportant(X_train)\n",
    "\n",
    "cv_accuracy(clf, X_train, y_train)\n",
    "# Drop umportant columns from test data\n",
    "test = test.drop(unimportant_cols, axis='columns')\n",
    "print(test.shape,X_train.shape)"
   ]
  },
  {
   "cell_type": "code",
   "execution_count": 20,
   "metadata": {},
   "outputs": [
    {
     "data": {
      "image/png": "[encoded data removed]",
      "text/plain": [
       "<Figure size 864x864 with 2 Axes>"
      ]
     },
     "metadata": {
      "needs_background": "light"
     },
     "output_type": "display_data"
    },
    {
     "name": "stdout",
     "output_type": "stream",
     "text": [
      "(565892, 64) (15120, 64)\n"
     ]
    }
   ],
   "source": [
    "plot_correlations(X_train, annot=False)\n",
    "#Drop correlated columns from test data\n",
    "dropped_cols, X_train = drop_correlated(X_train)\n",
    "#Drop correlated columns from test data\n",
    "test = test.drop(dropped_cols, axis='columns')\n",
    "print(test.shape,X_train.shape)"
   ]
  },
  {
   "cell_type": "markdown",
   "metadata": {},
   "source": [
    "## Apply RFE to select the features "
   ]
  },
  {
   "cell_type": "code",
   "execution_count": 17,
   "metadata": {},
   "outputs": [],
   "source": [
    "from sklearn.feature_selection import RFE\n",
    "\n",
    "rfe = RFE(clf, n_features_to_select = None, step=1)\n",
    "selector= rfe.fit(X_train, y_train)\n",
    "#print(selector.n_features_,selector.ranking_)\n"
   ]
  },
  {
   "cell_type": "code",
   "execution_count": 18,
   "metadata": {},
   "outputs": [],
   "source": [
    "#print(selector.n_features_,selector.ranking_)\n",
    "#X_train = selector.transform(X_train)\n",
    "def drop_unranked(X_,cols,rank = 1):\n",
    "    X = X_.copy()\n",
    "    \n",
    "    drop_cols = [X.columns[i] for i in range(0,len(X.columns)) if cols[i]>rank]\n",
    "    \n",
    "    X = X.drop(drop_cols, axis='columns')\n",
    "    \n",
    "    return drop_cols,X\n"
   ]
  },
  {
   "cell_type": "code",
   "execution_count": 25,
   "metadata": {},
   "outputs": [
    {
     "name": "stdout",
     "output_type": "stream",
     "text": [
      "Seleccionables:  27\n"
     ]
    }
   ],
   "source": [
    "print('Seleccionables: ',sum(selector.ranking_<=5))\n",
    "cols,X_train=drop_unranked(X_train,selector.ranking_, 5)\n",
    "test = test.drop(cols, axis='columns')"
   ]
  },
  {
   "cell_type": "code",
   "execution_count": 42,
   "metadata": {},
   "outputs": [
    {
     "name": "stdout",
     "output_type": "stream",
     "text": [
      "(565892, 68) (15120, 68)\n",
      "Cross-validation accuracy: 0.812 [0.791 0.778 0.796 0.816 0.878]\n"
     ]
    },
    {
     "data": {
      "image/png": "[encoded data removed]",
      "text/plain": [
       "<Figure size 1008x288 with 1 Axes>"
      ]
     },
     "metadata": {
      "needs_background": "light"
     },
     "output_type": "display_data"
    },
    {
     "data": {
      "image/png": "[encoded data removed]",
      "text/plain": [
       "<Figure size 1008x576 with 4 Axes>"
      ]
     },
     "metadata": {
      "needs_background": "light"
     },
     "output_type": "display_data"
    }
   ],
   "source": [
    "#Lets evaluate our final dataset\n",
    "print(test.shape,X_train.shape)\n",
    "\n",
    "cv_accuracy(clf, X_train, y_train)\n",
    "feature_importances(clf, X_train, y_train)\n",
    "cv_confusion(clf, X_train, y_train)"
   ]
  },
  {
   "cell_type": "markdown",
   "metadata": {},
   "source": [
    "Lets save the final train and test dataset to be use in the classifiers"
   ]
  },
  {
   "cell_type": "code",
   "execution_count": 43,
   "metadata": {},
   "outputs": [],
   "source": [
    "df1 = X_train.assign(Cover_Type=y_train)\n",
    "df1.to_csv('train_fe.csv', sep=',', header=True, index=True, index_label='Id')\n",
    "test.to_csv('test_fe.csv', sep=',', header=True, index=True, index_label='Id')"
   ]
  },
  {
   "cell_type": "code",
   "execution_count": 21,
   "metadata": {},
   "outputs": [
    {
     "name": "stdout",
     "output_type": "stream",
     "text": [
      "X:  (15120, 64)\n",
      "y:  (15120,)\n",
      "test:  (565892, 64)\n"
     ]
    }
   ],
   "source": [
    "# Tranform to numpy array of float type\n",
    "X = X_train.values.astype('float64')\n",
    "y = y_train.values.ravel()\n",
    "test_ds= test.values.astype('float64')\n",
    "\n",
    "#X_train, X_test, y_train, y_test = train_test_split(X, y, test_size = 0.4, random_state = 0)\n",
    "\n",
    "print('X: ', X.shape)\n",
    "print('y: ', y.shape)\n",
    "print('test: ', test_ds.shape)"
   ]
  },
  {
   "cell_type": "markdown",
   "metadata": {},
   "source": [
    "## Classifiers for Level 1 in the stacked model\n",
    "\n",
    "Create a dictionary of the diferents models for Level 1 in the stacked model. There are many posibilities, I have tested some of them using GridSearchCV for some parameter tunning (but they can be improved with some other experiments). You can check some great kernels publish by others members:\n",
    "\n",
    "https://www.kaggle.com/stevegreenau/stacking-multiple-classifiers-clustering\n",
    "https://www.kaggle.com/phsheth/forestml-part-6-stacking-selfets-gmix-smote\n",
    "\n",
    "Bayesian optimization for hyperparameters. ¿Try?\n",
    "https://www.kdnuggets.com/2019/07/xgboost-random-forest-bayesian-optimisation.html\n"
   ]
  },
  {
   "cell_type": "code",
   "execution_count": 60,
   "metadata": {},
   "outputs": [],
   "source": [
    "#Define a ratio for every class weighted\n",
    "#ratio_weight={1:0.3, 2:0.3, 3: 0.1, 4:0.05, 5:0.1, 6:0.1, 7:0.05}"
   ]
  },
  {
   "cell_type": "code",
   "execution_count": 22,
   "metadata": {},
   "outputs": [],
   "source": [
    "#Estimators: 400, 400, 400, 125 (reduce to 100 100 100 100 for some tests)\n",
    "models = {\n",
    "    'Random Forest': RandomForestClassifier(criterion = 'entropy',n_estimators=400, max_depth=None, min_samples_split=2, min_samples_leaf=1, \n",
    "                                    max_leaf_nodes=None,random_state = 0, class_weight = None),\n",
    "    'AdaBoost': AdaBoostClassifier(base_estimator=DecisionTreeClassifier(criterion = 'entropy', max_depth=None, min_samples_split=2,\n",
    "                                                                         min_samples_leaf=1,max_leaf_nodes=None,max_features='auto',\n",
    "                                                                         random_state = 0, class_weight = None),\n",
    "                                   n_estimators=400,learning_rate=0.2,random_state=0),\n",
    "    \n",
    "    'Bagging': BaggingClassifier(base_estimator=DecisionTreeClassifier(criterion = 'entropy', max_depth=None, min_samples_split=2,\n",
    "                                                                         min_samples_leaf=1,max_leaf_nodes=None,max_features='auto',\n",
    "                                                                         random_state = 0),\n",
    "                                   n_estimators=300,max_features=0.75, max_samples=1.0, random_state=0,n_jobs=-1,verbose=0),\n",
    "    #{'max_features': 0.75, 'max_samples': 1.0, 'n_estimators': 300}\n",
    "    #'GBM': GradientBoostingClassifier(n_estimators=500, learning_rate= 0.2, max_depth=10, min_samples_leaf=1, \n",
    "    #                                  min_samples_split=2,random_state=0,verbose=1),\n",
    "    'LGBM': LGBMClassifier(n_estimators=300, learning_rate= 0.1, objective= 'multiclass', num_class=7, random_state= 0, \n",
    "                           n_jobs=-1, class_weight = None),\n",
    "    #'LGBM': LGBMClassifier(n_estimators=300, num_leaves=100, verbosity=0, random_state=0,n_jobs=-1),\n",
    "    #'KNN': KNeighborsClassifier(n_neighbors=7, n_jobs=-1),\n",
    "    # 'XGB': XGBClassifier(n_estimator= 200, learning_rate= 0.1, max_depth= 50, objective= 'binary:logistic',random_state= 0,n_jobs=-1),\n",
    "    'Extra Tree': ExtraTreesClassifier(criterion = 'entropy', n_estimators=150, max_depth=None, min_samples_split=2,min_samples_leaf=1, \n",
    "                                      max_leaf_nodes=None,oob_score=False, warm_start=True, random_state = 0, \n",
    "                                      class_weight = None)\n",
    "}"
   ]
  },
  {
   "cell_type": "markdown",
   "metadata": {},
   "source": [
    "Lets evaluate our level-1 classifiers using cross validation, splits = 5"
   ]
  },
  {
   "cell_type": "code",
   "execution_count": 23,
   "metadata": {},
   "outputs": [],
   "source": [
    "from sklearn.model_selection import KFold, cross_val_score\n",
    "\n",
    "# Create the splits for cross validation\n",
    "cv = KFold(n_splits=5, shuffle=True, random_state=0)"
   ]
  },
  {
   "cell_type": "code",
   "execution_count": 121,
   "metadata": {},
   "outputs": [
    {
     "name": "stdout",
     "output_type": "stream",
     "text": [
      "Evaluating Model:  Random Forest\n",
      "Random Forest Accuracy Mean 0.8919, Std 0.0061\n",
      "Evaluating Model:  AdaBoost\n",
      "AdaBoost Accuracy Mean 0.7937, Std 0.0082\n",
      "Evaluating Model:  GBM\n",
      "      Iter       Train Loss   Remaining Time \n",
      "         1       13667.7726            5.22m\n",
      "         2        9898.4484            7.07m\n",
      "         3        7517.9394            7.55m\n",
      "         4        5743.3423            7.82m\n",
      "         5        4524.4453            8.02m\n",
      "         6        3626.1486            8.18m\n",
      "         7        2970.6414            8.29m\n",
      "         8        2425.3214            8.36m\n",
      "         9        2000.5692            8.43m\n",
      "        10        1671.6210            8.53m\n",
      "        20         448.6706            8.55m\n",
      "        30         169.9908            7.91m\n",
      "        40          69.1669            7.38m\n",
      "        50          30.9718            6.80m\n",
      "        60          15.3047            6.28m\n",
      "        70           8.3592            5.72m\n",
      "        80           5.5700            5.14m\n",
      "        90           4.3366            4.60m\n",
      "       100           3.7889            4.11m\n",
      "       200           3.4621            1.61m\n",
      "       300           3.4621           44.20s\n",
      "       400           3.4621           17.04s\n",
      "       500           3.4621            0.00s\n",
      "      Iter       Train Loss   Remaining Time \n",
      "         1       13765.8920            5.83m\n",
      "         2        9947.6859            7.08m\n",
      "         3        7563.1166            7.50m\n",
      "         4        5917.4676            7.99m\n",
      "         5        4638.6287            8.24m\n",
      "         6        3676.3965            8.39m\n",
      "         7        2987.9764            8.51m\n",
      "         8        2428.3162            8.70m\n",
      "         9        1989.5468            8.78m\n",
      "        10        1663.9253            8.82m\n",
      "        20         449.7427            8.58m\n",
      "        30         171.3001            7.92m\n",
      "        40          72.4531            7.31m\n",
      "        50          35.0744            6.78m\n",
      "        60          17.4793            6.29m\n",
      "        70           9.4732            5.85m\n",
      "        80           5.9703            5.28m\n",
      "        90           4.4610            4.74m\n",
      "       100           3.8942            4.24m\n",
      "       200           3.5233            1.66m\n",
      "       300           3.5233           45.50s\n",
      "       400           3.5233           17.53s\n",
      "       500           3.5233            0.00s\n",
      "      Iter       Train Loss   Remaining Time \n",
      "         1       13878.4736            5.65m\n",
      "         2       10096.1903            7.08m\n",
      "         3        7732.8633            7.56m\n",
      "         4        6084.0058            8.12m\n",
      "         5        4838.8930            8.33m\n",
      "         6        3881.8248            8.57m\n",
      "         7        3187.2370            8.57m\n",
      "         8        2647.2260            8.64m\n",
      "         9        2225.3935            8.79m\n",
      "        10        1867.4555            8.85m\n",
      "        20         486.0585            8.75m\n",
      "        30         196.7969            8.13m\n",
      "        40          86.5138            7.57m\n",
      "        50          37.5193            7.08m\n",
      "        60          17.3828            6.60m\n",
      "        70           9.3277            6.07m\n",
      "        80           6.2881            5.46m\n",
      "        90           4.9107            4.88m\n",
      "       100           4.0512            4.40m\n",
      "       200           3.5102            1.73m\n",
      "       300           3.5102           47.48s\n",
      "       400           3.5102           18.28s\n",
      "       500           3.5102            0.00s\n",
      "      Iter       Train Loss   Remaining Time \n",
      "         1       13960.7943            5.30m\n",
      "         2        9985.1712            7.03m\n",
      "         3        7587.3905            7.66m\n",
      "         4        5867.1460            7.97m\n",
      "         5        4645.4317            8.17m\n",
      "         6        3729.2813            8.45m\n",
      "         7        3032.7000            8.62m\n",
      "         8        2530.7934            8.85m\n",
      "         9        2104.4305            9.09m\n",
      "        10        1790.4889            9.15m\n",
      "        20         492.1876            9.03m\n",
      "        30         181.5141            8.48m\n",
      "        40          71.9755            7.91m\n",
      "        50          30.4736            7.32m\n",
      "        60          14.3278            6.77m\n",
      "        70           7.8190            6.17m\n",
      "        80           5.4486            5.51m\n",
      "        90           4.3468            4.92m\n",
      "       100           3.8522            4.39m\n",
      "       200           3.4445            1.73m\n",
      "       300           3.4445           47.34s\n",
      "       400           3.4445           18.29s\n",
      "       500           3.4445            0.00s\n",
      "      Iter       Train Loss   Remaining Time \n",
      "         1       13982.0794            6.07m\n",
      "         2       10161.7105            7.41m\n",
      "         3        7642.7425            7.99m\n",
      "         4        5939.5564            8.36m\n",
      "         5        4704.2867            8.71m\n",
      "         6        3775.5132            8.93m\n",
      "         7        3055.0408            9.18m\n",
      "         8        2517.6255            9.35m\n",
      "         9        2101.7969            9.42m\n",
      "        10        1761.6007            9.51m\n",
      "        20         449.8752            9.49m\n",
      "        30         164.7728            8.85m\n",
      "        40          69.4452            8.12m\n",
      "        50          32.1663            7.55m\n",
      "        60          14.5236            6.98m\n",
      "        70           8.0607            6.37m\n",
      "        80           5.4469            5.71m\n",
      "        90           4.2983            5.11m\n",
      "       100           3.7576            4.56m\n",
      "       200           3.4978            1.78m\n",
      "       300           3.4978           48.80s\n",
      "       400           3.4978           18.81s\n",
      "       500           3.4978            0.00s\n",
      "GBM Accuracy Mean 0.8866, Std 0.0081\n",
      "Evaluating Model:  Extra Tree\n",
      "Extra Tree Accuracy Mean 0.8978, Std 0.0056\n",
      "Best Model:  Extra Tree  Accuracy:  0.8978174603174601\n"
     ]
    }
   ],
   "source": [
    "# Evaluate the L1 classifiers (not necessary)\n",
    "results= dict()\n",
    "for name, model in models.items():\n",
    "    print('Evaluating Model: ',name)\n",
    "    cv_results = cross_val_score(model, X, y,\n",
    "                                cv=cv, \n",
    "                                scoring='accuracy')\n",
    "    results[name] = cv_results\n",
    "    print(name, 'Accuracy Mean {0:.4f}, Std {1:.4f}'.format(\n",
    "              cv_results.mean(), cv_results.std()))\n",
    "\n",
    "accuracies= dict()\n",
    "for name, accs in results.items():\n",
    "    accuracies[name]=accs.mean()\n",
    "    \n",
    "best_model=max(accuracies, key=accuracies.get)\n",
    "print('Best Model: ',best_model,' Accuracy: ',accuracies[best_model])"
   ]
  },
  {
   "cell_type": "markdown",
   "metadata": {},
   "source": [
    "## Classifier for Level 2 of the Stacked model\n",
    "Now we have determined the best model and its accuracy, so the next step is to create a stacked model whose L1 classifiers are the previuos models and the meta-classifier (L2 classifier) will be the best model. Finally we will test the model using prediction probabilities in L1 and adding or not the features"
   ]
  },
  {
   "cell_type": "code",
   "execution_count": 37,
   "metadata": {},
   "outputs": [],
   "source": [
    "#meta_model=models[best_model]\n",
    "#meta_model=RandomForestClassifier(criterion = 'entropy',n_estimators=200, max_depth=None, min_samples_split=2, min_samples_leaf=1, \n",
    "#                                    max_leaf_nodes=None,random_state = 0)\n",
    "#meta_model=LGBMClassifier(n_estimators=20, learning_rate= 0.1, objective= 'multiclass', num_class=7, random_state= 0, \n",
    "#                           n_jobs=-1, class_weight = None)\n",
    "meta_model=XGBClassifier(n_estimator= 100, learning_rate= 0.1, max_depth= 50, objective= 'binary:logistic',random_state= 0,n_jobs=-1)\n",
    "#meta_model=LogisticRegression(max_iter=1000, n_jobs=-1, solver= 'lbfgs',multi_class = 'multinomial')"
   ]
  },
  {
   "cell_type": "code",
   "execution_count": 38,
   "metadata": {},
   "outputs": [],
   "source": [
    "from mlxtend.classifier import StackingCVClassifier\n",
    "\n",
    "clfs = [m for m in models.values()]\n",
    "\n",
    "stacked_model = StackingCVClassifier(classifiers=clfs,\n",
    "                             meta_classifier=meta_model,\n",
    "                             cv=cv,\n",
    "                             use_probas=True,\n",
    "                             drop_last_proba=False,\n",
    "                             use_features_in_secondary=True,\n",
    "                             verbose=1,\n",
    "                             store_train_meta_features=True,\n",
    "                             random_state=0,\n",
    "                             n_jobs=-1)\n"
   ]
  },
  {
   "cell_type": "code",
   "execution_count": 39,
   "metadata": {},
   "outputs": [
    {
     "name": "stdout",
     "output_type": "stream",
     "text": [
      "Fitting 5 classifiers...\n",
      "Fitting classifier1: randomforestclassifier (1/5)\n"
     ]
    },
    {
     "name": "stderr",
     "output_type": "stream",
     "text": [
      "[Parallel(n_jobs=-1)]: Using backend LokyBackend with 8 concurrent workers.\n",
      "[Parallel(n_jobs=-1)]: Done   2 out of   5 | elapsed:   45.6s remaining:  1.1min\n",
      "[Parallel(n_jobs=-1)]: Done   5 out of   5 | elapsed:   46.7s finished\n",
      "[Parallel(n_jobs=-1)]: Using backend LokyBackend with 8 concurrent workers.\n"
     ]
    },
    {
     "name": "stdout",
     "output_type": "stream",
     "text": [
      "Fitting classifier2: adaboostclassifier (2/5)\n"
     ]
    },
    {
     "name": "stderr",
     "output_type": "stream",
     "text": [
      "[Parallel(n_jobs=-1)]: Done   2 out of   5 | elapsed:    0.2s remaining:    0.3s\n",
      "[Parallel(n_jobs=-1)]: Done   5 out of   5 | elapsed:    2.1s finished\n",
      "[Parallel(n_jobs=-1)]: Using backend LokyBackend with 8 concurrent workers.\n"
     ]
    },
    {
     "name": "stdout",
     "output_type": "stream",
     "text": [
      "Fitting classifier3: baggingclassifier (3/5)\n"
     ]
    },
    {
     "name": "stderr",
     "output_type": "stream",
     "text": [
      "[Parallel(n_jobs=-1)]: Done   2 out of   5 | elapsed:   24.1s remaining:   36.2s\n",
      "[Parallel(n_jobs=-1)]: Done   5 out of   5 | elapsed:   24.6s finished\n",
      "[Parallel(n_jobs=-1)]: Using backend LokyBackend with 8 concurrent workers.\n"
     ]
    },
    {
     "name": "stdout",
     "output_type": "stream",
     "text": [
      "Fitting classifier4: lgbmclassifier (4/5)\n"
     ]
    },
    {
     "name": "stderr",
     "output_type": "stream",
     "text": [
      "[Parallel(n_jobs=-1)]: Done   2 out of   5 | elapsed:   33.5s remaining:   50.4s\n",
      "[Parallel(n_jobs=-1)]: Done   5 out of   5 | elapsed:   33.7s finished\n",
      "[Parallel(n_jobs=-1)]: Using backend LokyBackend with 8 concurrent workers.\n"
     ]
    },
    {
     "name": "stdout",
     "output_type": "stream",
     "text": [
      "Fitting classifier5: extratreesclassifier (5/5)\n"
     ]
    },
    {
     "name": "stderr",
     "output_type": "stream",
     "text": [
      "[Parallel(n_jobs=-1)]: Done   2 out of   5 | elapsed:    6.0s remaining:    9.1s\n",
      "[Parallel(n_jobs=-1)]: Done   5 out of   5 | elapsed:    6.1s finished\n"
     ]
    },
    {
     "name": "stdout",
     "output_type": "stream",
     "text": [
      "Fitting 5 classifiers...\n",
      "Fitting classifier1: randomforestclassifier (1/5)\n"
     ]
    },
    {
     "name": "stderr",
     "output_type": "stream",
     "text": [
      "[Parallel(n_jobs=-1)]: Using backend LokyBackend with 8 concurrent workers.\n",
      "[Parallel(n_jobs=-1)]: Done   2 out of   5 | elapsed:   43.0s remaining:  1.1min\n",
      "[Parallel(n_jobs=-1)]: Done   5 out of   5 | elapsed:   44.1s finished\n",
      "[Parallel(n_jobs=-1)]: Using backend LokyBackend with 8 concurrent workers.\n"
     ]
    },
    {
     "name": "stdout",
     "output_type": "stream",
     "text": [
      "Fitting classifier2: adaboostclassifier (2/5)\n"
     ]
    },
    {
     "name": "stderr",
     "output_type": "stream",
     "text": [
      "[Parallel(n_jobs=-1)]: Done   2 out of   5 | elapsed:    0.2s remaining:    0.3s\n",
      "[Parallel(n_jobs=-1)]: Done   5 out of   5 | elapsed:    0.2s finished\n",
      "[Parallel(n_jobs=-1)]: Using backend LokyBackend with 8 concurrent workers.\n"
     ]
    },
    {
     "name": "stdout",
     "output_type": "stream",
     "text": [
      "Fitting classifier3: baggingclassifier (3/5)\n"
     ]
    },
    {
     "name": "stderr",
     "output_type": "stream",
     "text": [
      "[Parallel(n_jobs=-1)]: Done   2 out of   5 | elapsed:   24.0s remaining:   36.0s\n",
      "[Parallel(n_jobs=-1)]: Done   5 out of   5 | elapsed:   24.5s finished\n",
      "[Parallel(n_jobs=-1)]: Using backend LokyBackend with 8 concurrent workers.\n"
     ]
    },
    {
     "name": "stdout",
     "output_type": "stream",
     "text": [
      "Fitting classifier4: lgbmclassifier (4/5)\n"
     ]
    },
    {
     "name": "stderr",
     "output_type": "stream",
     "text": [
      "[Parallel(n_jobs=-1)]: Done   2 out of   5 | elapsed:   32.3s remaining:   48.4s\n",
      "[Parallel(n_jobs=-1)]: Done   5 out of   5 | elapsed:   33.1s finished\n",
      "[Parallel(n_jobs=-1)]: Using backend LokyBackend with 8 concurrent workers.\n"
     ]
    },
    {
     "name": "stdout",
     "output_type": "stream",
     "text": [
      "Fitting classifier5: extratreesclassifier (5/5)\n"
     ]
    },
    {
     "name": "stderr",
     "output_type": "stream",
     "text": [
      "[Parallel(n_jobs=-1)]: Done   2 out of   5 | elapsed:    6.0s remaining:    9.1s\n",
      "[Parallel(n_jobs=-1)]: Done   5 out of   5 | elapsed:    6.3s finished\n"
     ]
    },
    {
     "name": "stdout",
     "output_type": "stream",
     "text": [
      "Fitting 5 classifiers...\n",
      "Fitting classifier1: randomforestclassifier (1/5)\n"
     ]
    },
    {
     "name": "stderr",
     "output_type": "stream",
     "text": [
      "[Parallel(n_jobs=-1)]: Using backend LokyBackend with 8 concurrent workers.\n",
      "[Parallel(n_jobs=-1)]: Done   2 out of   5 | elapsed:   42.9s remaining:  1.1min\n",
      "[Parallel(n_jobs=-1)]: Done   5 out of   5 | elapsed:   43.6s finished\n",
      "[Parallel(n_jobs=-1)]: Using backend LokyBackend with 8 concurrent workers.\n"
     ]
    },
    {
     "name": "stdout",
     "output_type": "stream",
     "text": [
      "Fitting classifier2: adaboostclassifier (2/5)\n"
     ]
    },
    {
     "name": "stderr",
     "output_type": "stream",
     "text": [
      "[Parallel(n_jobs=-1)]: Done   2 out of   5 | elapsed:    0.2s remaining:    0.3s\n",
      "[Parallel(n_jobs=-1)]: Done   5 out of   5 | elapsed:    0.2s finished\n",
      "[Parallel(n_jobs=-1)]: Using backend LokyBackend with 8 concurrent workers.\n"
     ]
    },
    {
     "name": "stdout",
     "output_type": "stream",
     "text": [
      "Fitting classifier3: baggingclassifier (3/5)\n"
     ]
    },
    {
     "name": "stderr",
     "output_type": "stream",
     "text": [
      "[Parallel(n_jobs=-1)]: Done   2 out of   5 | elapsed:   24.1s remaining:   36.3s\n",
      "[Parallel(n_jobs=-1)]: Done   5 out of   5 | elapsed:   24.6s finished\n",
      "[Parallel(n_jobs=-1)]: Using backend LokyBackend with 8 concurrent workers.\n"
     ]
    },
    {
     "name": "stdout",
     "output_type": "stream",
     "text": [
      "Fitting classifier4: lgbmclassifier (4/5)\n"
     ]
    },
    {
     "name": "stderr",
     "output_type": "stream",
     "text": [
      "[Parallel(n_jobs=-1)]: Done   2 out of   5 | elapsed:   31.5s remaining:   47.3s\n",
      "[Parallel(n_jobs=-1)]: Done   5 out of   5 | elapsed:   32.0s finished\n",
      "[Parallel(n_jobs=-1)]: Using backend LokyBackend with 8 concurrent workers.\n"
     ]
    },
    {
     "name": "stdout",
     "output_type": "stream",
     "text": [
      "Fitting classifier5: extratreesclassifier (5/5)\n"
     ]
    },
    {
     "name": "stderr",
     "output_type": "stream",
     "text": [
      "[Parallel(n_jobs=-1)]: Done   2 out of   5 | elapsed:    5.7s remaining:    8.6s\n",
      "[Parallel(n_jobs=-1)]: Done   5 out of   5 | elapsed:    6.1s finished\n"
     ]
    },
    {
     "name": "stdout",
     "output_type": "stream",
     "text": [
      "Fitting 5 classifiers...\n",
      "Fitting classifier1: randomforestclassifier (1/5)\n"
     ]
    },
    {
     "name": "stderr",
     "output_type": "stream",
     "text": [
      "[Parallel(n_jobs=-1)]: Using backend LokyBackend with 8 concurrent workers.\n",
      "[Parallel(n_jobs=-1)]: Done   2 out of   5 | elapsed:   41.2s remaining:  1.0min\n",
      "[Parallel(n_jobs=-1)]: Done   5 out of   5 | elapsed:   42.4s finished\n",
      "[Parallel(n_jobs=-1)]: Using backend LokyBackend with 8 concurrent workers.\n"
     ]
    },
    {
     "name": "stdout",
     "output_type": "stream",
     "text": [
      "Fitting classifier2: adaboostclassifier (2/5)\n"
     ]
    },
    {
     "name": "stderr",
     "output_type": "stream",
     "text": [
      "[Parallel(n_jobs=-1)]: Done   2 out of   5 | elapsed:    0.2s remaining:    0.3s\n",
      "[Parallel(n_jobs=-1)]: Done   5 out of   5 | elapsed:    0.2s finished\n",
      "[Parallel(n_jobs=-1)]: Using backend LokyBackend with 8 concurrent workers.\n"
     ]
    },
    {
     "name": "stdout",
     "output_type": "stream",
     "text": [
      "Fitting classifier3: baggingclassifier (3/5)\n"
     ]
    },
    {
     "name": "stderr",
     "output_type": "stream",
     "text": [
      "[Parallel(n_jobs=-1)]: Done   2 out of   5 | elapsed:   23.6s remaining:   35.4s\n",
      "[Parallel(n_jobs=-1)]: Done   5 out of   5 | elapsed:   24.2s finished\n",
      "[Parallel(n_jobs=-1)]: Using backend LokyBackend with 8 concurrent workers.\n"
     ]
    },
    {
     "name": "stdout",
     "output_type": "stream",
     "text": [
      "Fitting classifier4: lgbmclassifier (4/5)\n"
     ]
    },
    {
     "name": "stderr",
     "output_type": "stream",
     "text": [
      "[Parallel(n_jobs=-1)]: Done   2 out of   5 | elapsed:   32.0s remaining:   48.0s\n",
      "[Parallel(n_jobs=-1)]: Done   5 out of   5 | elapsed:   32.7s finished\n",
      "[Parallel(n_jobs=-1)]: Using backend LokyBackend with 8 concurrent workers.\n"
     ]
    },
    {
     "name": "stdout",
     "output_type": "stream",
     "text": [
      "Fitting classifier5: extratreesclassifier (5/5)\n"
     ]
    },
    {
     "name": "stderr",
     "output_type": "stream",
     "text": [
      "[Parallel(n_jobs=-1)]: Done   2 out of   5 | elapsed:    5.9s remaining:    8.9s\n",
      "[Parallel(n_jobs=-1)]: Done   5 out of   5 | elapsed:    6.2s finished\n"
     ]
    },
    {
     "name": "stdout",
     "output_type": "stream",
     "text": [
      "Fitting 5 classifiers...\n",
      "Fitting classifier1: randomforestclassifier (1/5)\n"
     ]
    },
    {
     "name": "stderr",
     "output_type": "stream",
     "text": [
      "[Parallel(n_jobs=-1)]: Using backend LokyBackend with 8 concurrent workers.\n",
      "[Parallel(n_jobs=-1)]: Done   2 out of   5 | elapsed:   41.2s remaining:  1.0min\n",
      "[Parallel(n_jobs=-1)]: Done   5 out of   5 | elapsed:   42.1s finished\n",
      "[Parallel(n_jobs=-1)]: Using backend LokyBackend with 8 concurrent workers.\n"
     ]
    },
    {
     "name": "stdout",
     "output_type": "stream",
     "text": [
      "Fitting classifier2: adaboostclassifier (2/5)\n"
     ]
    },
    {
     "name": "stderr",
     "output_type": "stream",
     "text": [
      "[Parallel(n_jobs=-1)]: Done   2 out of   5 | elapsed:    0.1s remaining:    0.2s\n",
      "[Parallel(n_jobs=-1)]: Done   5 out of   5 | elapsed:    0.1s finished\n",
      "[Parallel(n_jobs=-1)]: Using backend LokyBackend with 8 concurrent workers.\n"
     ]
    },
    {
     "name": "stdout",
     "output_type": "stream",
     "text": [
      "Fitting classifier3: baggingclassifier (3/5)\n"
     ]
    },
    {
     "name": "stderr",
     "output_type": "stream",
     "text": [
      "[Parallel(n_jobs=-1)]: Done   2 out of   5 | elapsed:   23.3s remaining:   35.0s\n",
      "[Parallel(n_jobs=-1)]: Done   5 out of   5 | elapsed:   23.8s finished\n",
      "[Parallel(n_jobs=-1)]: Using backend LokyBackend with 8 concurrent workers.\n"
     ]
    },
    {
     "name": "stdout",
     "output_type": "stream",
     "text": [
      "Fitting classifier4: lgbmclassifier (4/5)\n"
     ]
    },
    {
     "name": "stderr",
     "output_type": "stream",
     "text": [
      "[Parallel(n_jobs=-1)]: Done   2 out of   5 | elapsed:   30.0s remaining:   45.1s\n",
      "[Parallel(n_jobs=-1)]: Done   5 out of   5 | elapsed:   30.5s finished\n",
      "[Parallel(n_jobs=-1)]: Using backend LokyBackend with 8 concurrent workers.\n"
     ]
    },
    {
     "name": "stdout",
     "output_type": "stream",
     "text": [
      "Fitting classifier5: extratreesclassifier (5/5)\n"
     ]
    },
    {
     "name": "stderr",
     "output_type": "stream",
     "text": [
      "[Parallel(n_jobs=-1)]: Done   2 out of   5 | elapsed:    6.1s remaining:    9.3s\n",
      "[Parallel(n_jobs=-1)]: Done   5 out of   5 | elapsed:    6.4s finished\n"
     ]
    },
    {
     "name": "stdout",
     "output_type": "stream",
     "text": [
      "Accuracy: 0.9034 (+/- 0.0079)\n"
     ]
    }
   ],
   "source": [
    "#It is time for evaluating the stacked model\n",
    "scores = cross_val_score(stacked_model, X, y, cv=cv, scoring='accuracy', verbose=0)\n",
    "\n",
    "print('Accuracy: %0.4f (+/- %0.4f)' % (scores.mean(), scores.std()))"
   ]
  },
  {
   "cell_type": "markdown",
   "metadata": {},
   "source": [
    "Finally we will predict on the training and test data to get the final results "
   ]
  },
  {
   "cell_type": "code",
   "execution_count": 20,
   "metadata": {},
   "outputs": [
    {
     "data": {
      "text/plain": [
       "StackingCVClassifier(classifiers=[RandomForestClassifier(bootstrap=True,\n",
       "                                                         class_weight=None,\n",
       "                                                         criterion='entropy',\n",
       "                                                         max_depth=None,\n",
       "                                                         max_features='auto',\n",
       "                                                         max_leaf_nodes=None,\n",
       "                                                         min_impurity_decrease=0.0,\n",
       "                                                         min_impurity_split=None,\n",
       "                                                         min_samples_leaf=1,\n",
       "                                                         min_samples_split=2,\n",
       "                                                         min_weight_fraction_leaf=0.0,\n",
       "                                                         n_estimators=400,\n",
       "                                                         n_jobs=None,\n",
       "                                                         oob_score=False,\n",
       "                                                         random_state=0,\n",
       "                                                         verbose...\n",
       "                                                            min_impurity_split=None,\n",
       "                                                            min_samples_leaf=1,\n",
       "                                                            min_samples_split=2,\n",
       "                                                            min_weight_fraction_leaf=0.0,\n",
       "                                                            n_estimators=200,\n",
       "                                                            n_jobs=None,\n",
       "                                                            oob_score=False,\n",
       "                                                            random_state=0,\n",
       "                                                            verbose=0,\n",
       "                                                            warm_start=False),\n",
       "                     n_jobs=-1, pre_dispatch='2*n_jobs', random_state=0,\n",
       "                     shuffle=True, store_train_meta_features=True,\n",
       "                     stratify=True, use_clones=True,\n",
       "                     use_features_in_secondary=True, use_probas=True,\n",
       "                     verbose=1)"
      ]
     },
     "execution_count": 20,
     "metadata": {},
     "output_type": "execute_result"
    }
   ],
   "source": [
    "stacked_model"
   ]
  },
  {
   "cell_type": "code",
   "execution_count": 40,
   "metadata": {},
   "outputs": [
    {
     "name": "stdout",
     "output_type": "stream",
     "text": [
      "Fitting 5 classifiers...\n",
      "Fitting classifier1: randomforestclassifier (1/5)\n"
     ]
    },
    {
     "name": "stderr",
     "output_type": "stream",
     "text": [
      "[Parallel(n_jobs=-1)]: Using backend LokyBackend with 8 concurrent workers.\n",
      "[Parallel(n_jobs=-1)]: Done   2 out of   5 | elapsed:   56.3s remaining:  1.4min\n",
      "[Parallel(n_jobs=-1)]: Done   5 out of   5 | elapsed:   56.9s finished\n",
      "[Parallel(n_jobs=-1)]: Using backend LokyBackend with 8 concurrent workers.\n"
     ]
    },
    {
     "name": "stdout",
     "output_type": "stream",
     "text": [
      "Fitting classifier2: adaboostclassifier (2/5)\n"
     ]
    },
    {
     "name": "stderr",
     "output_type": "stream",
     "text": [
      "[Parallel(n_jobs=-1)]: Done   2 out of   5 | elapsed:    0.2s remaining:    0.4s\n",
      "[Parallel(n_jobs=-1)]: Done   5 out of   5 | elapsed:    2.1s finished\n",
      "[Parallel(n_jobs=-1)]: Using backend LokyBackend with 8 concurrent workers.\n"
     ]
    },
    {
     "name": "stdout",
     "output_type": "stream",
     "text": [
      "Fitting classifier3: baggingclassifier (3/5)\n"
     ]
    },
    {
     "name": "stderr",
     "output_type": "stream",
     "text": [
      "[Parallel(n_jobs=-1)]: Done   2 out of   5 | elapsed:   31.0s remaining:   46.5s\n",
      "[Parallel(n_jobs=-1)]: Done   5 out of   5 | elapsed:   31.6s finished\n",
      "[Parallel(n_jobs=-1)]: Using backend LokyBackend with 8 concurrent workers.\n"
     ]
    },
    {
     "name": "stdout",
     "output_type": "stream",
     "text": [
      "Fitting classifier4: lgbmclassifier (4/5)\n"
     ]
    },
    {
     "name": "stderr",
     "output_type": "stream",
     "text": [
      "[Parallel(n_jobs=-1)]: Done   2 out of   5 | elapsed:   35.7s remaining:   53.6s\n",
      "[Parallel(n_jobs=-1)]: Done   5 out of   5 | elapsed:   36.6s finished\n",
      "[Parallel(n_jobs=-1)]: Using backend LokyBackend with 8 concurrent workers.\n"
     ]
    },
    {
     "name": "stdout",
     "output_type": "stream",
     "text": [
      "Fitting classifier5: extratreesclassifier (5/5)\n"
     ]
    },
    {
     "name": "stderr",
     "output_type": "stream",
     "text": [
      "[Parallel(n_jobs=-1)]: Done   2 out of   5 | elapsed:    7.3s remaining:   11.0s\n",
      "[Parallel(n_jobs=-1)]: Done   5 out of   5 | elapsed:    7.5s finished\n"
     ]
    },
    {
     "name": "stdout",
     "output_type": "stream",
     "text": [
      "Stacked Model Accuracy:  1.0\n"
     ]
    }
   ],
   "source": [
    "# Fit and predict the stacked model on both train and test data\n",
    "stacked_model.fit(X, y)\n",
    "predictions = stacked_model.predict(X)\n",
    "predictions_test = stacked_model.predict(test_ds)\n",
    "print('Stacked Model Accuracy: ',round(accuracy_score(y, predictions),4))"
   ]
  },
  {
   "cell_type": "code",
   "execution_count": 22,
   "metadata": {},
   "outputs": [
    {
     "data": {
      "text/plain": [
       "[('randomforestclassifier',\n",
       "  RandomForestClassifier(bootstrap=True, class_weight=None, criterion='entropy',\n",
       "                         max_depth=None, max_features='auto', max_leaf_nodes=None,\n",
       "                         min_impurity_decrease=0.0, min_impurity_split=None,\n",
       "                         min_samples_leaf=1, min_samples_split=2,\n",
       "                         min_weight_fraction_leaf=0.0, n_estimators=400,\n",
       "                         n_jobs=None, oob_score=False, random_state=0, verbose=0,\n",
       "                         warm_start=False)),\n",
       " ('adaboostclassifier', AdaBoostClassifier(algorithm='SAMME.R',\n",
       "                     base_estimator=DecisionTreeClassifier(class_weight=None,\n",
       "                                                           criterion='entropy',\n",
       "                                                           max_depth=None,\n",
       "                                                           max_features='auto',\n",
       "                                                           max_leaf_nodes=None,\n",
       "                                                           min_impurity_decrease=0.0,\n",
       "                                                           min_impurity_split=None,\n",
       "                                                           min_samples_leaf=1,\n",
       "                                                           min_samples_split=2,\n",
       "                                                           min_weight_fraction_leaf=0.0,\n",
       "                                                           presort=False,\n",
       "                                                           random_state=0,\n",
       "                                                           splitter='best'),\n",
       "                     learning_rate=0.2, n_estimators=400, random_state=0)),\n",
       " ('baggingclassifier',\n",
       "  BaggingClassifier(base_estimator=DecisionTreeClassifier(class_weight=None,\n",
       "                                                          criterion='entropy',\n",
       "                                                          max_depth=None,\n",
       "                                                          max_features='auto',\n",
       "                                                          max_leaf_nodes=None,\n",
       "                                                          min_impurity_decrease=0.0,\n",
       "                                                          min_impurity_split=None,\n",
       "                                                          min_samples_leaf=1,\n",
       "                                                          min_samples_split=2,\n",
       "                                                          min_weight_fraction_leaf=0.0,\n",
       "                                                          presort=False,\n",
       "                                                          random_state=0,\n",
       "                                                          splitter='best'),\n",
       "                    bootstrap=True, bootstrap_features=False, max_features=0.75,\n",
       "                    max_samples=1.0, n_estimators=300, n_jobs=-1, oob_score=False,\n",
       "                    random_state=0, verbose=0, warm_start=False)),\n",
       " ('lgbmclassifier',\n",
       "  LGBMClassifier(boosting_type='gbdt', class_weight=None, colsample_bytree=1.0,\n",
       "                 importance_type='split', learning_rate=0.1, max_depth=-1,\n",
       "                 min_child_samples=20, min_child_weight=0.001, min_split_gain=0.0,\n",
       "                 n_estimators=300, n_jobs=-1, num_class=7, num_leaves=31,\n",
       "                 objective='multiclass', random_state=0, reg_alpha=0.0,\n",
       "                 reg_lambda=0.0, silent=True, subsample=1.0,\n",
       "                 subsample_for_bin=200000, subsample_freq=0)),\n",
       " ('extratreesclassifier',\n",
       "  ExtraTreesClassifier(bootstrap=False, class_weight=None, criterion='entropy',\n",
       "                       max_depth=None, max_features='auto', max_leaf_nodes=None,\n",
       "                       min_impurity_decrease=0.0, min_impurity_split=None,\n",
       "                       min_samples_leaf=1, min_samples_split=2,\n",
       "                       min_weight_fraction_leaf=0.0, n_estimators=150,\n",
       "                       n_jobs=None, oob_score=False, random_state=0, verbose=0,\n",
       "                       warm_start=True))]"
      ]
     },
     "execution_count": 22,
     "metadata": {},
     "output_type": "execute_result"
    }
   ],
   "source": [
    "stacked_model.named_classifiers"
   ]
  },
  {
   "cell_type": "markdown",
   "metadata": {},
   "source": [
    "Save the input meta-features to L2 classifier, it can be used in another kind of model as a NN"
   ]
  },
  {
   "cell_type": "code",
   "execution_count": 50,
   "metadata": {},
   "outputs": [],
   "source": [
    "df= pd.DataFrame(data=stacked_model.train_meta_features_, index=X_train.index.values)\n",
    "df.to_csv(\"meta_features_L2_train.csv\", index=True)"
   ]
  },
  {
   "cell_type": "code",
   "execution_count": 51,
   "metadata": {},
   "outputs": [],
   "source": [
    "# We need to create the meta features for the test dataset\n",
    "metaf_test = stacked_model.predict_meta_features(test_ds)"
   ]
  },
  {
   "cell_type": "code",
   "execution_count": 52,
   "metadata": {},
   "outputs": [],
   "source": [
    "#metaf.shape\n",
    "#stacked_model.meta-features\n",
    "df= pd.DataFrame(data=metaf_test, index=test.index.values)\n",
    "df.to_csv(\"meta_features_L2_test.csv\", index=True)"
   ]
  },
  {
   "cell_type": "markdown",
   "metadata": {},
   "source": [
    "Create the submission file with the predictions for the test dataset"
   ]
  },
  {
   "cell_type": "code",
   "execution_count": 41,
   "metadata": {},
   "outputs": [],
   "source": [
    "submission = pd.DataFrame({ 'Id': test.index.values,\n",
    "                            'Cover_Type': predictions_test })\n",
    "submission.to_csv(\"submission_data.csv\", index=False)"
   ]
  },
  {
   "cell_type": "code",
   "execution_count": 42,
   "metadata": {},
   "outputs": [
    {
     "name": "stdout",
     "output_type": "stream",
     "text": [
      "Successfully submitted to Learn With Other Kaggle Users\n"
     ]
    },
    {
     "name": "stderr",
     "output_type": "stream",
     "text": [
      "\n",
      "  0%|          | 0.00/5.32M [00:00<?, ?B/s]\n",
      "  1%|1         | 80.0k/5.32M [00:00<00:07, 756kB/s]\n",
      " 42%|####2     | 2.26M/5.32M [00:00<00:03, 1.07MB/s]\n",
      " 55%|#####5    | 2.93M/5.32M [00:02<00:03, 642kB/s] \n",
      "100%|##########| 5.32M/5.32M [00:06<00:00, 924kB/s]\n"
     ]
    }
   ],
   "source": [
    "!kaggle  competitions  submit -c learn-together -f submission_data.csv -m \"FE 10-clus-dummy StoneyDummy L1:RF Ada LGBM ET BAG L2:XGB 100\""
   ]
  },
  {
   "cell_type": "code",
   "execution_count": 43,
   "metadata": {},
   "outputs": [
    {
     "name": "stdout",
     "output_type": "stream",
     "text": [
      "fileName                                 date                 description                                                      status    publicScore  privateScore  \n",
      "---------------------------------------  -------------------  ---------------------------------------------------------------  --------  -----------  ------------  \n",
      "submission_data.csv                      2019-10-12 18:04:49  FE 10-clus-dummy StoneyDummy L1:RF Ada LGBM ET BAG L2:XGB 100    complete  0.82377      None          \n",
      "submission_data.csv                      2019-10-12 15:48:04  FE 10-clus-dummy StoneyDummy L1:RF Ada LGBM ET BAG L2:RF 200     complete  0.82366      None          \n",
      "submission_data.csv                      2019-10-12 11:22:56  FE 10-clus-dummy with Corr L1:RF Ada LGBM ET BAG L2:RF 200       complete  0.82302      None          \n",
      "submission_data.csv                      2019-10-12 11:06:01  FE 10-clus-dummy newAspectSlope L1:RF Ada LGBM ET BAG L2:RF 200  complete  0.82302      None          \n",
      "submission_data.csv                      2019-10-12 10:47:57  FE 10-clus-dummy newAspect L1:RF Ada LGBM ET BAG L2:RF 200       complete  0.82309      None          \n",
      "submission_data.csv                      2019-10-11 11:41:07  FE 10-clus-dummy Aspect L1:RF Ada LGBM ET BAG L2:RF 200          complete  0.82126      None          \n",
      "submission_data.csv                      2019-10-10 17:52:49  FE 10-clus-dummy L1:RF Ada LGBM ET BAG L2:RF 400                 complete  0.82854      None          \n",
      "submission_data.csv                      2019-10-10 17:36:59  FE 10-clus-dummy L1:RF Ada LGBM ET BAG L2:RF                     complete  0.82862      None          \n",
      "submission_data.csv                      2019-10-09 18:18:52  FE 10-c PCA L1:RF Ada LGBM ET BAG KNN L2:RF                      complete  0.79693      None          \n",
      "Feature eng. and a simple Stacked model  2019-10-08 17:45:22  From \"Feature eng. and a simple Stacked model\" Script            complete  0.82529      None          \n",
      "Feature eng. and a simple Stacked model  2019-10-08 17:11:01  From \"Feature eng. and a simple Stacked model\" Script            complete  0.82277      None          \n",
      "Feature eng. and a simple Stacked model  2019-10-08 16:51:16  From \"Feature eng. and a simple Stacked model\" Script            complete  0.81976      None          \n",
      "Feature eng. and a simple Stacked model  2019-10-08 16:28:36  From \"Feature eng. and a simple Stacked model\" Script            complete  0.82296      None          \n",
      "Feature eng. and a simple Stacked model  2019-10-08 11:11:54  From \"Feature eng. and a simple Stacked model\" Script            complete  0.82691      None          \n",
      "Feature eng. and a simple Stacked model  2019-10-06 11:40:45  From \"Feature eng. and a simple Stacked model\" Script            complete  0.82086      None          \n",
      "Feature eng. and a simple Stacked model  2019-10-05 18:24:47  From \"Feature eng. and a simple Stacked model\" Script            complete  0.81494      None          \n",
      "Feature eng. and a simple Stacked model  2019-10-05 17:38:53  From \"Feature eng. and a simple Stacked model\" Script            complete  0.82586      None          \n",
      "roosevelt_Submit20191002105659.csv       2019-10-02 11:05:29  FE 10-c SMOTE L1:RF Ada LGBM ET BAG KNN L2:FastNN 3layers 10emb  complete  0.81332      None          \n",
      "roosevelt_Submit20190930111706.csv       2019-09-30 11:24:38  FE 10-c Meta SMOTE L1:RF Ada LGBM ET BAG KNN L2:FastNN           complete  0.81475      None          \n",
      "submission_data.csv                      2019-09-28 17:52:43  FE 10-c OSamp L1:RF Ada LGBM ET BAG KNN L2:RF                    complete  0.81675      None          \n"
     ]
    }
   ],
   "source": [
    "!kaggle competitions submissions -c learn-together -q"
   ]
  },
  {
   "cell_type": "code",
   "execution_count": null,
   "metadata": {},
   "outputs": [],
   "source": []
  }
 ],
 "metadata": {
  "kernelspec": {
   "display_name": "Python 3",
   "language": "python",
   "name": "python3"
  },
  "language_info": {
   "codemirror_mode": {
    "name": "ipython",
    "version": 3
   },
   "file_extension": ".py",
   "mimetype": "text/x-python",
   "name": "python",
   "nbconvert_exporter": "python",
   "pygments_lexer": "ipython3",
   "version": "3.6.7"
  }
 },
 "nbformat": 4,
 "nbformat_minor": 1
}
